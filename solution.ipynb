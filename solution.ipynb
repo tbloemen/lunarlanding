{
 "cells": [
  {
   "cell_type": "markdown",
   "metadata": {},
   "source": [
    "# Evolving a Lunar Lander with differentiable Genetic Programming"
   ]
  },
  {
   "cell_type": "markdown",
   "metadata": {},
   "source": [
    "## Installation\n",
    "To install the required libraries run the command:"
   ]
  },
  {
   "cell_type": "code",
   "execution_count": 19,
   "metadata": {},
   "outputs": [],
   "source": [
    "# !pip install -r requirements.txt"
   ]
  },
  {
   "cell_type": "markdown",
   "metadata": {},
   "source": [
    "## Imports\n",
    "Imports from the standard genepro-multi library are done here. Any adjustments (e.g. different operators) should be made in the notebook. For example:\n",
    "\n",
    "```\n",
    "class SmoothOperator(Node):\n",
    "  def __init__(self):\n",
    "    super(SmoothOperator,self).__init__()\n",
    "    self.arity = 1\n",
    "    self.symb = \"SmoothOperator\"\n",
    "\n",
    "  def _get_args_repr(self, args):\n",
    "    return self._get_typical_repr(args,'before')\n",
    "\n",
    "  def get_output(self, X):\n",
    "    c_outs = self._get_child_outputs(X)\n",
    "    return np.smoothOperation(c_outs[0])\n",
    "\n",
    "  def get_output_pt(self, X):\n",
    "    c_outs = self._get_child_outputs_pt(X)\n",
    "    return torch.smoothOperation(c_outs[0])\n",
    "```"
   ]
  },
  {
   "cell_type": "code",
   "execution_count": 20,
   "metadata": {},
   "outputs": [],
   "source": [
    "import gymnasium as gym\n",
    "\n",
    "from genepro.node_impl import *\n",
    "from genepro.evo import Evolution\n",
    "from genepro.node_impl import Constant\n",
    "\n",
    "import torch\n",
    "import torch.optim as optim\n",
    "\n",
    "import random\n",
    "import os\n",
    "import copy\n",
    "from collections import namedtuple, deque\n",
    "\n",
    "import matplotlib.pyplot as plt\n",
    "from matplotlib import animation"
   ]
  },
  {
   "cell_type": "markdown",
   "metadata": {},
   "source": [
    "## Reinforcement Learning Setup\n",
    "Here we first setup the Gymnasium environment. Please see https://gymnasium.farama.org/environments/box2d/lunar_lander/ for more information on the environment. \n",
    "\n",
    "Then a memory buffer is made. This is a buffer in which state transitions are stored. When the buffer reaches its maximum capacity old transitions are replaced by new ones.\n",
    "\n",
    "A frame buffer is initialised, used to later store animation frames of the environment."
   ]
  },
  {
   "cell_type": "markdown",
   "metadata": {},
   "source": [
    "#### Adding Wind\n",
    "\n",
    "Wind can be added to the current environment setup as below:\n",
    "\n",
    "```bash\n",
    "env = gym.make(\"LunarLander-v3\", continuous=False,\n",
    "               enable_wind=True, wind_power=15.0, turbulence_power=1.5)\n",
    "```\n",
    "\n",
    "Selin: When we add wind as a variable, it makes sense to also edit our fitness function. We can define a new boolean parameter (say have_random_wind) and if it is set to true when the fitness function is called, we can re-define the environment with a random wind value at each episode. This would potentially make our GP algorithm more robust to randomness. A possible implementation:\n",
    "\n",
    "```bash\n",
    "if use_random_wind:\n",
    "    env = gym.make(\"LunarLander-v3\", continuous=False,\n",
    "                    enable_wind=True,\n",
    "                    wind_power=np.random.uniform(5.0, 20.0),\n",
    "                    turbulence_power=np.random.uniform(0.5, 2.0))\n",
    "```\n",
    "\n",
    "The above can be added within the loop that goes over the episodes (the outer for loop of the fitness function)."
   ]
  },
  {
   "cell_type": "markdown",
   "metadata": {},
   "source": [
    "#### Adding new Atomic Functions\n",
    "\n",
    "These atomic functions will be added as internal nodes within the Evolution setup.\n",
    "\n",
    "We can add min & max operators. Or instead, we can add **Clamp(x, min, max)** operator. This could be interesting.\n",
    "\n",
    "We can add domain specific operators:\n",
    "- Maybe a function that calculates the angle of the lunarlander to the pad (angle_to_pad(x_pos, y_pos)?)\n",
    "\n",
    "#### Fitness Calculation\n",
    "\n",
    "For the final fitness calculation, we are taking the sum of the rewards across episodes. Instead of sum operation, can we do this fitness calculation in a more clever way?"
   ]
  },
  {
   "cell_type": "code",
   "execution_count": 21,
   "metadata": {},
   "outputs": [],
   "source": [
    "env = gym.make(\"LunarLander-v3\", render_mode=\"rgb_array\")"
   ]
  },
  {
   "cell_type": "code",
   "execution_count": 22,
   "metadata": {},
   "outputs": [],
   "source": [
    "Transition = namedtuple('Transition', ('state', 'action', 'next_state', 'reward'))\n",
    "\n",
    "class ReplayMemory(object):\n",
    "    def __init__(self, capacity):\n",
    "        self.memory = deque([], maxlen=capacity)\n",
    "\n",
    "    def push(self, *args):\n",
    "        \"\"\"Save a transition\"\"\"\n",
    "        self.memory.append(Transition(*args))\n",
    "\n",
    "    def sample(self, batch_size):\n",
    "        return random.sample(self.memory, batch_size)\n",
    "\n",
    "    def __len__(self):\n",
    "        return len(self.memory)\n",
    "\n",
    "    def __iadd__(self, other):\n",
    "      self.memory += other.memory\n",
    "      return self \n",
    "\n",
    "    def __add__(self, other):\n",
    "      self.memory = self.memory + other.memory \n",
    "      return self"
   ]
  },
  {
   "cell_type": "code",
   "execution_count": 23,
   "metadata": {},
   "outputs": [],
   "source": [
    "frames = []"
   ]
  },
  {
   "cell_type": "markdown",
   "metadata": {},
   "source": [
    "## Fitness Function\n",
    "\n",
    "Here you get to be creative. The default setup evaluates 5 episodes of 300 frames. Think of what action to pick and what fitness function to use. The Multi-tree takes an input of $n \\times d$ where $n$ is a batch of size 1."
   ]
  },
  {
   "cell_type": "markdown",
   "metadata": {},
   "source": [
    "### Selin's Notes\n",
    "\n",
    "**Fitness Function:** Fitness is defined as the cumulative reward of the landing.\n",
    "\n",
    "**Multitree:** Multitree contains 4 trees, one for each action of the Lunar lander. \n",
    "\n",
    "- `0`: do nothing\n",
    "- `1`: fire left orientation engine\n",
    "- `2`: fire main engine\n",
    "- `3`: fire right orientation engine\n",
    "\n",
    "Multitree is initialized under genepro/variation.py file, with the generate_random_multitree() method. This method is called in the genepro/evo.py file within the _initialize_population() internal method. \n",
    "\n",
    "**Understanding the Input Sample:** Input sample is an 8-dimensional vector: [x, y, vx, vy, angle, angular_velocity, leg1_contact, leg2_contact]\n",
    "\n",
    "e.g. [-2.5, -2.5, -10, -10, -6.28, -10, 0, 0]\n",
    "\n",
    "- index0 : x position of the lander\n",
    "- index1: y position of the lander\n",
    "- index2: velocity in the x direction\n",
    "- index3: velocity in the y direction\n",
    "- index4: angle of the lander\n",
    "- index5: angular velocity\n",
    "- index6: leg 1 in contact\n",
    "- index7: leg 2 in contact\n",
    "      \n"
   ]
  },
  {
   "cell_type": "code",
   "execution_count": 24,
   "metadata": {},
   "outputs": [],
   "source": [
    "def make_fitness_function_pt(reduction='sum', has_wind=False):\n",
    "  '''\n",
    "  Generic fitness function factory\n",
    "  '''\n",
    "  def fitness_function(multitree, num_episodes=5, episode_duration=300, render=False, ignore_done=False):\n",
    "    memory = ReplayMemory(10000)\n",
    "    rewards = []\n",
    "\n",
    "    for _ in range(num_episodes):\n",
    "      # define a new environment with or without wind\n",
    "      if has_wind: \n",
    "        env = gym.make(\"LunarLander-v3\", render_mode=\"rgb_array\",\n",
    "                        enable_wind=True,\n",
    "                        wind_power=np.random.uniform(0.0, 2.0), # TODO: Update the parameters for wind if necessary\n",
    "                        turbulence_power=np.random.uniform(0.0, 1.0)) # TODO: Update the parameters for turbulence if necessary\n",
    "      else:\n",
    "        env = gym.make(\"LunarLander-v3\", render_mode=\"rgb_array\")\n",
    "        \n",
    "      observation = env.reset()\n",
    "      observation = observation[0]\n",
    "      \n",
    "      for _ in range(episode_duration):\n",
    "        if render:\n",
    "          frames.append(env.render())\n",
    "\n",
    "        input_sample = torch.from_numpy(observation.reshape((1,-1))).float() # Input sample is a torch tensor\n",
    "\n",
    "        # what goes here? TODO\n",
    "        '''Below is Selin's possible definition of an action'''\n",
    "        output_scores = multitree.get_output_pt(input_sample) # A tensor of length 4, storing the scores of each action (after evaluating each tree)\n",
    "        action = torch.argmax(output_scores, dim=1) # Select the action with the highest score\n",
    "        observation, reward, terminated, truncated, info = env.step(action.item())\n",
    "        rewards.append(reward)\n",
    "        output_sample = torch.from_numpy(observation.reshape((1,-1))).float()\n",
    "        memory.push(input_sample, torch.tensor([[action.item()]]), output_sample, torch.tensor([reward]))\n",
    "        if (terminated or truncated) and not ignore_done:\n",
    "          break\n",
    "          \n",
    "    # Define the reward types here\n",
    "    # TODO: Add more reward types!\n",
    "    if reduction == 'sum':\n",
    "      fitness = np.sum(rewards)\n",
    "    elif reduction == 'min':\n",
    "      fitness = np.min(rewards)\n",
    "    else:\n",
    "      raise ValueError(f\"Unknown reduction method: {reduction}\")\n",
    "    \n",
    "    return fitness, memory\n",
    "  \n",
    "  return fitness_function"
   ]
  },
  {
   "cell_type": "markdown",
   "metadata": {},
   "source": [
    "## Evolution Setup\n",
    "Here the leaf and internal nodes are defined. Think about the odds of sampling a constant in this default configurations. Also think about any operators that could be useful and add them here. \n",
    "\n",
    "Adjust the population size (multiple of 8 if you want to use the standard tournament selection), max generations and max tree size to taste. Be aware that each of these settings can increase the runtime."
   ]
  },
  {
   "cell_type": "markdown",
   "metadata": {},
   "source": [
    "#### Selin's ideas about the things they wanted us to consider in the evolution setup (possible areas for improvement)\n",
    "\n",
    "In the below code, it says **Think about the probability of sampling a coefficient (which is basically a constant).** Currently, in the below code, we have 8 features and we are adding all of them as leaf nodes. \n",
    "\n",
    "However, we are only adding 1 constant as a leaf node. So this would give us a 1/9 chance of sampling a coefficient. This is a very small probability. Hence, **a possible area of improvement** might be to consider adding more constants (e.g. 4 or 5 constants) to our leaf nodes set and see how our GP performs. I think having constant is **important** because they allow the model to shift or scale features (e.g. x_4 + 1.5).\n",
    "\n",
    "**Having more operators:** Currently, we only have basic arithmetic operators. We can add the following non-linear operators:\n",
    "- log\n",
    "- sqrt\n",
    "- sin, cos\n",
    "- max, min\n",
    "- exp\n",
    "- square, cube, ...\n",
    "\n",
    "**Adjusting the parameters of the Evolution() method** called below. We can design an experiment to find the best combination of parameter values for population size, max generations, and max tree size."
   ]
  },
  {
   "cell_type": "code",
   "execution_count": 25,
   "metadata": {},
   "outputs": [],
   "source": [
    "num_features = env.observation_space.shape[0]\n",
    "leaf_nodes = [Feature(i) for i in range(num_features)]\n",
    "leaf_nodes = leaf_nodes + [Constant()] # Think about the probability of sampling a coefficient\n",
    "internal_nodes = [Plus(),Minus(),Times(),Div()] # Add your own operators here\n",
    "\n",
    "fitness_function_pt = make_fitness_function_pt(reduction='sum') # Baseline fitness function\n",
    "\n",
    "evo = Evolution(\n",
    "  fitness_function_pt, internal_nodes, leaf_nodes,\n",
    "  4,\n",
    "  pop_size=16,\n",
    "  max_gens=10,\n",
    "  max_tree_size=31,\n",
    "  n_jobs=8,\n",
    "  verbose=True)"
   ]
  },
  {
   "cell_type": "markdown",
   "metadata": {},
   "source": [
    "## Evolve\n",
    "Running this cell will use all the settings above as parameters"
   ]
  },
  {
   "cell_type": "code",
   "execution_count": 26,
   "metadata": {},
   "outputs": [
    {
     "name": "stdout",
     "output_type": "stream",
     "text": [
      "gen: 1, best of gen fitness: -683.307,\tbest of gen size: 25\n",
      "gen: 2, best of gen fitness: -584.284,\tbest of gen size: 29\n",
      "gen: 3, best of gen fitness: -532.380,\tbest of gen size: 25\n",
      "gen: 4, best of gen fitness: -593.551,\tbest of gen size: 25\n",
      "gen: 5, best of gen fitness: -641.653,\tbest of gen size: 25\n",
      "gen: 6, best of gen fitness: -559.621,\tbest of gen size: 25\n",
      "gen: 7, best of gen fitness: -425.203,\tbest of gen size: 25\n",
      "gen: 8, best of gen fitness: -502.156,\tbest of gen size: 25\n",
      "gen: 9, best of gen fitness: -598.442,\tbest of gen size: 25\n",
      "gen: 10, best of gen fitness: -531.633,\tbest of gen size: 25\n"
     ]
    }
   ],
   "source": [
    "best_fitnesses_across_gens = evo.evolve(is_multiobjective=False)\n",
    "\n",
    "# TODO: Should we account for the range difference between the two objectives? (diversity is in the range of 10s to 20s)"
   ]
  },
  {
   "cell_type": "code",
   "execution_count": 27,
   "metadata": {},
   "outputs": [
    {
     "name": "stdout",
     "output_type": "stream",
     "text": [
      "[-1065.4099827545183, -683.3068881644617, -584.2844468459257, -532.3803426071955, -593.5507969724331, -641.6528803226895, -559.6206463752499, -425.2034804554644, -502.1563297589932, -598.4421408493656, -531.6327313175299]\n"
     ]
    }
   ],
   "source": [
    "# Print best fitnesses across generations\n",
    "print(best_fitnesses_across_gens)"
   ]
  },
  {
   "cell_type": "markdown",
   "metadata": {},
   "source": [
    "# Test"
   ]
  },
  {
   "cell_type": "code",
   "execution_count": 28,
   "metadata": {},
   "outputs": [
    {
     "name": "stdout",
     "output_type": "stream",
     "text": [
      "['(((x_2*(x_4/-0.32206085324287415))-((x_5+x_3)-(x_6/-3.075294256210327)))/((x_6+(x_2*3.150503635406494))/(x_1-(x_0/x_5))))', '((x_0/(x_3+x_7))*(((x_6+x_0)/(x_6*x_1))-((x_4/-1.0142793503445484)-x_6)))', '((((x_0-x_1)-x_7)*((x_3/-3.7385802268981934)-(x_0/x_3)))+(((x_6-x_3)/(x_3-x_4))/(x_4*x_6)))', '(((x_5*(2.7063119411468506*x_7))+(x_5+x_0))/((x_7/(x_2-x_7))*((x_6*x_4)-2.451784133911133)))']\n",
      "-2373.91098482664\n"
     ]
    }
   ],
   "source": [
    "def get_test_score(tree, has_wind=False):\n",
    "    rewards = []\n",
    "\n",
    "    for i in range(10):\n",
    "      # define a new environment with or without wind\n",
    "      if has_wind: \n",
    "        env = gym.make(\"LunarLander-v3\", render_mode=\"rgb_array\",\n",
    "                        enable_wind=True,\n",
    "                        wind_power=np.random.uniform(0.0, 2.0), # TODO: Update the parameters for wind if necessary\n",
    "                        turbulence_power=np.random.uniform(0.0, 1.0)) # TODO: Update the parameters for turbulence if necessary\n",
    "      else:\n",
    "        env = gym.make(\"LunarLander-v3\", render_mode=\"rgb_array\")\n",
    "\n",
    "      observation = env.reset(seed=i)\n",
    "      observation = observation[0]\n",
    "\n",
    "      for _ in range(500):    \n",
    "        # build up the input sample for GP\n",
    "        input_sample = torch.from_numpy(observation.reshape((1,-1))).float()\n",
    "        \n",
    "        # TODO: Again, define the action\n",
    "        '''Selin's idea of an action is added below'''\n",
    "        # get output (squeezing because it is encapsulated in an array)\n",
    "        output = tree.get_output_pt(input_sample)\n",
    "        action = torch.argmax(output, dim=1) # Select the action with the highest score\n",
    "        \n",
    "        observation, reward, terminated, truncated, info = env.step(action.item())\n",
    "        rewards.append(reward)\n",
    "        output_sample = torch.from_numpy(observation.reshape((1,-1))).float()\n",
    "        if (terminated or truncated):\n",
    "            break\n",
    "\n",
    "    fitness = np.sum(rewards)\n",
    "    \n",
    "    return fitness\n",
    "\n",
    "best = evo.best_of_gens[-1]\n",
    "\n",
    "print(best.get_readable_repr())\n",
    "print(get_test_score(best))"
   ]
  },
  {
   "cell_type": "markdown",
   "metadata": {},
   "source": [
    "## Our Experimentation Setup"
   ]
  },
  {
   "cell_type": "code",
   "execution_count": 29,
   "metadata": {},
   "outputs": [
    {
     "data": {
      "text/plain": [
       "\"\\nConfiguring the fitness function\\nTEST 1.1 Single objective: Experiment with different quality metrics for fitness\\nTEST 1.2 Multi-objective: Include diversity as a second metric\\n\\nRequired additional arguments for fitness function: has_wind=False, reward_type='sum', is_multiobjective=False\\nwhere reward_types = ['sum', 'min', 'weighted_sum']\\n\\nWind Test \\nAdding wind as a variable, and also adding a random wind value at each episode\\n\""
      ]
     },
     "execution_count": 29,
     "metadata": {},
     "output_type": "execute_result"
    }
   ],
   "source": [
    "# Write down ideas for experimentation here!\n",
    "\n",
    "# TEST TYPE 1. Improving the Fitness Function\n",
    "'''\n",
    "Configuring the fitness function\n",
    "TEST 1.1 Single objective: Experiment with different quality metrics for fitness\n",
    "TEST 1.2 Multi-objective: Include diversity as a second metric\n",
    "\n",
    "Required additional arguments for fitness function: has_wind=False, reward_type='sum', is_multiobjective=False\n",
    "where reward_types = ['sum', 'min', 'weighted_sum']\n",
    "\n",
    "Wind Test \n",
    "Adding wind as a variable, and also adding a random wind value at each episode\n",
    "''' "
   ]
  },
  {
   "cell_type": "code",
   "execution_count": null,
   "metadata": {},
   "outputs": [],
   "source": [
    "import csv\n",
    "import os\n",
    "\n",
    "def write_results_to_csv(internal_nodes, leaf_nodes,\n",
    "                         pop_size, max_gens, max_tree_size,\n",
    "                         crossover_rate, mutation_rate, coeff_opt_rate, tournament_size,\n",
    "                         best_training, best_test, average_fitness, time_elapsed, num_evals,\n",
    "                         filename=\"experiment_results.csv\"):\n",
    "\n",
    "    # Flatten node types to strings for logging\n",
    "    internal_str = \",\".join(type(node).__name__ for node in internal_nodes)\n",
    "    leaf_str = \",\".join(type(node).__name__ for node in leaf_nodes)\n",
    "\n",
    "    # Build a dictionary of all results/settings\n",
    "    row = {\n",
    "        \"internal_nodes\": internal_str,\n",
    "        \"leaf_nodes\": leaf_str,\n",
    "        \"pop_size\": pop_size,\n",
    "        \"max_gens\": max_gens,\n",
    "        \"max_tree_size\": max_tree_size,\n",
    "        \"crossover_rate\": crossover_rate,\n",
    "        \"mutation_rate\": mutation_rate,\n",
    "        \"coeff_opt_rate\": coeff_opt_rate,\n",
    "        \"tournament_size\": tournament_size,\n",
    "        \"best_training\": best_training,\n",
    "        \"best_test\": best_test,\n",
    "        \"average_fitness\": average_fitness,\n",
    "        \"time_elapsed\": time_elapsed,\n",
    "        \"num_evals\": num_evals\n",
    "    }\n",
    "\n",
    "    file_exists = os.path.isfile(filename)\n",
    "    with open(filename, mode=\"a\", newline=\"\") as csvfile:\n",
    "        writer = csv.DictWriter(csvfile, fieldnames=list(row.keys()))\n",
    "        if not file_exists:\n",
    "            writer.writeheader()\n",
    "        writer.writerow(row)"
   ]
  },
  {
   "cell_type": "code",
   "execution_count": null,
   "metadata": {},
   "outputs": [],
   "source": [
    "# TODO: Think about how to incorporate wind to the experimentation setup!!!\n",
    "\n",
    "from genepro.evo import subtree_crossover, subtree_mutation, coeff_mutation, tournament_selection\n",
    "\n",
    "# Hyperparameters in the baseline implementation which will be kept as is\n",
    "num_features = env.observation_space.shape[0]\n",
    "leaf_nodes = [Feature(i) for i in range(num_features)]\n",
    "leaf_nodes = leaf_nodes + [Constant()] # Think about the probability of sampling a coefficient\n",
    "internal_nodes = [Plus(),Minus(),Times(),Div()] # Add your own operators here\n",
    "\n",
    "def main_experimentation_loop(fitness_function_version, internal_nodes, leaf_nodes,\n",
    "                                pop_size=64, max_gens=30, max_tree_size=31,\n",
    "                                crossover_rate=0.5, mutation_rate=0.5, coeff_opt_rate=0.5, tournament_size=8):\n",
    "    \n",
    "    # Define the best-performing hyperparameters\n",
    "    crossovers = [{\"fun\": subtree_crossover, \"rate\": crossover_rate}]\n",
    "    mutations = [{\"fun\": subtree_mutation, \"rate\": mutation_rate}]\n",
    "    coeff_opts = [{\"fun\": coeff_mutation, \"rate\": coeff_opt_rate}]\n",
    "    selection = {\"fun\": tournament_selection, \"kwargs\": {\"tournament_size\": tournament_size}}\n",
    "            \n",
    "    # Initialize an evolution setup with the correct fitness function\n",
    "    evo = Evolution(\n",
    "            fitness_function_version, \n",
    "            internal_nodes, \n",
    "            leaf_nodes,\n",
    "            n_trees=4, # Number of trees in multitree is fixed to 4\n",
    "            # resource settings\n",
    "            pop_size=pop_size,\n",
    "            max_gens=max_gens,\n",
    "            max_tree_size=max_tree_size,\n",
    "            # hyperparameter settings\n",
    "            crossovers=crossovers,\n",
    "            mutations=mutations,\n",
    "            coeff_opts=coeff_opts,\n",
    "            selection=selection,\n",
    "            n_jobs=8, # Number of jobs is fixed to 8 (used for parallel computing)\n",
    "            verbose=True)\n",
    "    \n",
    "    # Run the training loop for this evolution setup and get the fitnesses of the best individuals across generations\n",
    "    best_fitnesses_training,average_fitness,time_elapsed,num_evals = evo.evolve()\n",
    "\n",
    "    # Now, run the testing loop for this evolution setup and get the fitnesses of the best individuals across generations\n",
    "    # Extract best-of-generation trees\n",
    "    best_individuals = evo.best_of_gens\n",
    "\n",
    "    # Collect test scores for each best individual across generations\n",
    "    best_fitnesses_test = [\n",
    "        get_test_score(ind) for ind in best_individuals\n",
    "    ]\n",
    "\n",
    "    return best_fitnesses_training, best_fitnesses_test, average_fitness, time_elapsed, num_evals"
   ]
  },
  {
   "cell_type": "code",
   "execution_count": null,
   "metadata": {},
   "outputs": [],
   "source": [
    "# BASELINE TEST. Hyperparameter Testing\n",
    "\n",
    "from itertools import product\n",
    "import time\n",
    "\n",
    "def hyperparameter_testing(max_gens=64):\n",
    "    crossover_rates = [0.500, 0.625, 0.750, 0.875, 1.000]\n",
    "    mutation_rates  = [0.010, 0.025, 0.050, 0.075, 0.125]\n",
    "    coeff_opt_rates = [0.010, 0.025, 0.050, 0.075, 0.125, 0.250] # Coefficient mutation rate will be further optimized with improvements\n",
    "    tournament_sizes = [2, 4, 8, 16]\n",
    "\n",
    "    total_runs = len(crossover_rates) * len(mutation_rates) * len(coeff_opt_rates) * len(tournament_sizes)\n",
    "    run_idx = 1\n",
    "\n",
    "    baseline_fitness_function = make_fitness_function_pt(reduction=\"sum\") # Test against the baseline fitness function: sum of rewards\n",
    "\n",
    "    for (cr, mr, cor, ts) in product(crossover_rates, mutation_rates, coeff_opt_rates, tournament_sizes):\n",
    "        print(f\"\\n=== Run {run_idx}/{total_runs} | CR={cr} MR={mr} CoeffR={cor} TS={ts} ===\")\n",
    "        run_idx += 1\n",
    "\n",
    "        try:\n",
    "            best_training, best_test, average_fitness, time_elapsed, num_evals = main_experimentation_loop(\n",
    "                fitness_function_version=baseline_fitness_function,\n",
    "                internal_nodes=internal_nodes,\n",
    "                leaf_nodes=leaf_nodes,\n",
    "                crossover_rate=cr,\n",
    "                mutation_rate=mr,\n",
    "                coeff_opt_rate=cor,\n",
    "                tournament_size=ts\n",
    "            )\n",
    "\n",
    "            write_results_to_csv(\n",
    "                internal_nodes=internal_nodes,\n",
    "                leaf_nodes=leaf_nodes,\n",
    "                pop_size=64,\n",
    "                max_gens=max_gens,\n",
    "                max_tree_size=31,\n",
    "                crossover_rate=cr,\n",
    "                mutation_rate=mr,\n",
    "                coeff_opt_rate=cor,\n",
    "                tournament_size=ts,\n",
    "                best_training=best_training,\n",
    "                best_test=best_test,\n",
    "                average_fitness=average_fitness,\n",
    "                time_elapsed=time_elapsed,\n",
    "                num_evals=num_evals\n",
    "            )\n",
    "\n",
    "        except Exception as e:\n",
    "            print(f\"Error in configuration CR={cr}, MR={mr}, CoeffR={cor}, TS={ts}: {e}\")\n",
    "            continue\n",
    "\n",
    "hyperparameter_testing(max_gens=64)"
   ]
  },
  {
   "cell_type": "code",
   "execution_count": null,
   "metadata": {},
   "outputs": [
    {
     "name": "stdout",
     "output_type": "stream",
     "text": [
      "\n",
      "Running experiment for reward type: sum\n",
      "gen: 1, best of gen fitness: -452.407,\tbest of gen size: 23\n",
      "gen: 2, best of gen fitness: -403.673,\tbest of gen size: 23\n",
      "gen: 3, best of gen fitness: -397.893,\tbest of gen size: 23\n",
      "gen: 4, best of gen fitness: -338.477,\tbest of gen size: 23\n",
      "gen: 5, best of gen fitness: -468.600,\tbest of gen size: 23\n",
      "gen: 6, best of gen fitness: -447.017,\tbest of gen size: 23\n",
      "gen: 7, best of gen fitness: -398.178,\tbest of gen size: 23\n",
      "gen: 8, best of gen fitness: -385.107,\tbest of gen size: 31\n",
      "gen: 9, best of gen fitness: -395.748,\tbest of gen size: 31\n",
      "gen: 10, best of gen fitness: -409.845,\tbest of gen size: 31\n",
      "\n",
      "Running experiment for reward type: min\n",
      "gen: 1, best of gen fitness: -100.000,\tbest of gen size: 29\n",
      "gen: 2, best of gen fitness: -100.000,\tbest of gen size: 21\n",
      "gen: 3, best of gen fitness: -100.000,\tbest of gen size: 25\n",
      "gen: 4, best of gen fitness: -100.000,\tbest of gen size: 25\n",
      "gen: 5, best of gen fitness: -100.000,\tbest of gen size: 25\n",
      "gen: 6, best of gen fitness: -100.000,\tbest of gen size: 25\n",
      "gen: 7, best of gen fitness: -100.000,\tbest of gen size: 31\n",
      "gen: 8, best of gen fitness: -100.000,\tbest of gen size: 31\n",
      "gen: 9, best of gen fitness: -100.000,\tbest of gen size: 25\n",
      "gen: 10, best of gen fitness: -100.000,\tbest of gen size: 21\n"
     ]
    }
   ],
   "source": [
    "# TEST TYPE 1. Improving the Fitness Function\n",
    "'''\n",
    "Configuring the fitness function\n",
    "TEST 1.1 Single objective: Experiment with different quality metrics for fitness\n",
    "TEST 1.2 Multi-objective: Include diversity as a second metric\n",
    "\n",
    "Required additional arguments for fitness function: has_wind=False, reward_type='sum', is_multiobjective=False\n",
    "where reward_types = ['sum', 'min', 'weighted_sum']\n",
    "\n",
    "Wind Test \n",
    "Adding wind as a variable, and also adding a random wind value at each episode\n",
    "''' \n",
    "def fitness_function_reward_types_exp(max_gens=64):\n",
    "    reward_types = ['sum', 'min']\n",
    "    training_fitnesses = []\n",
    "    test_fitnesses = []\n",
    "    for reward_type in reward_types:\n",
    "        fitness_function_version = make_fitness_function_pt(reduction=reward_type)\n",
    "        print(f\"\\nRunning experiment for reward type: {reward_type}\")\n",
    "        best_training, best_test, average_fitness, time_elapsed, num_evals = main_experimentation_loop(fitness_function_version,\n",
    "                                                             internal_nodes, \n",
    "                                                             leaf_nodes,\n",
    "                                                             pop_size=16, \n",
    "                                                             max_gens=max_gens, \n",
    "                                                             max_tree_size=31)\n",
    "        training_fitnesses.append(best_training)\n",
    "        test_fitnesses.append(best_test)\n",
    "\n",
    "    return training_fitnesses, test_fitnesses, reward_types\n",
    "\n",
    "\n",
    "training_fitnesses, test_fitnesses, reward_types = fitness_function_reward_types_exp(max_gens=10)"
   ]
  },
  {
   "cell_type": "code",
   "execution_count": 33,
   "metadata": {},
   "outputs": [
    {
     "name": "stdout",
     "output_type": "stream",
     "text": [
      "[[-1119.969969085419, -1104.2195918697146, -1134.8383933388186, -1119.969969085419, -1119.969969085419, -1119.969969085419, -1119.969969085419, -1119.969969085419, -809.1726203562287, -809.1726203562287, -809.1726203562287], [-6568.764165039967, -1745.969729884424, -11792.989139978794, -6336.003092893781, -7099.5920574560805, -7756.409375944981, -7755.255106268676, -6574.015159351728, -6362.748807119937, -8070.40651687368, -7557.686919089011]]\n",
      "[[-510.04560888702804, -452.4067630224, -403.673486084767, -397.8927682059409, -338.4766649565579, -468.600293275657, -447.0167892441747, -398.17800102388685, -385.1071311514634, -395.7481794175038, -409.84470167834945], [-100.0, -100.0, -100.0, -100.0, -100.0, -100.0, -100.0, -100.0, -100.0, -100.0, -100.0]]\n"
     ]
    },
    {
     "data": {
      "image/png": "[encoded data removed]",
      "text/plain": [
       "<Figure size 1200x500 with 2 Axes>"
      ]
     },
     "metadata": {},
     "output_type": "display_data"
    }
   ],
   "source": [
    "def plot_fitnesses_reward_types_exp(training_fitnesses, test_fitnesses, reward_types):\n",
    "    print(test_fitnesses)\n",
    "    print(training_fitnesses)\n",
    "    generations = list(range(len(training_fitnesses[0])))\n",
    "\n",
    "    plt.figure(figsize=(12, 5))\n",
    "\n",
    "    # Training fitness plot\n",
    "    plt.subplot(1, 2, 1)\n",
    "    for i, reward_type in enumerate(reward_types):\n",
    "        plt.plot(generations, training_fitnesses[i], label=reward_type)\n",
    "    plt.title(\"Training Fitness over Generations\")\n",
    "    plt.xlabel(\"Generation\")\n",
    "    plt.ylabel(\"Fitness\")\n",
    "    plt.grid(True)\n",
    "    plt.legend()\n",
    "\n",
    "    # Testing fitness plot\n",
    "    plt.subplot(1, 2, 2)\n",
    "    for i, reward_type in enumerate(reward_types):\n",
    "        plt.plot(generations, test_fitnesses[i], label=reward_type)\n",
    "    plt.title(\"Testing Fitness over Generations\")\n",
    "    plt.xlabel(\"Generation\")\n",
    "    plt.ylabel(\"Fitness\")\n",
    "    plt.grid(True)\n",
    "    plt.legend()\n",
    "\n",
    "    plt.tight_layout()\n",
    "    plt.show()\n",
    "\n",
    "plot_fitnesses_reward_types_exp(training_fitnesses, test_fitnesses, reward_types)"
   ]
  },
  {
   "cell_type": "markdown",
   "metadata": {},
   "source": [
    "## Make an animation\n",
    "Here the best evolved individual is selected and one episode is rendered. Make sure to save your lunar landers over time to track progress and make comparisons."
   ]
  },
  {
   "cell_type": "code",
   "execution_count": 34,
   "metadata": {},
   "outputs": [
    {
     "name": "stderr",
     "output_type": "stream",
     "text": [
      "MovieWriter imagemagick unavailable; using Pillow instead.\n"
     ]
    },
    {
     "data": {
      "image/png": "[encoded data removed]",
      "text/plain": [
       "<Figure size 600x400 with 1 Axes>"
      ]
     },
     "metadata": {},
     "output_type": "display_data"
    }
   ],
   "source": [
    "frames = []\n",
    "\n",
    "# gist to save gif from https://gist.github.com/botforge/64cbb71780e6208172bbf03cd9293553\n",
    "def save_frames_as_gif(frames, path='./', filename='evolved_lander.gif'):\n",
    "  plt.figure(figsize=(frames[0].shape[1] / 72.0, frames[0].shape[0] / 72.0), dpi=72)\n",
    "  patch = plt.imshow(frames[0])\n",
    "  plt.axis('off')\n",
    "  def animate(i):\n",
    "      patch.set_data(frames[i])\n",
    "  anim = animation.FuncAnimation(plt.gcf(), animate, frames = len(frames), interval=50)\n",
    "  anim.save(path + filename, writer='imagemagick', fps=60)\n",
    "\n",
    "frames = []\n",
    "fitness_function_pt(best, num_episodes=1, episode_duration=500, render=True, ignore_done=False)\n",
    "env.close()\n",
    "save_frames_as_gif(frames)"
   ]
  },
  {
   "cell_type": "markdown",
   "metadata": {},
   "source": [
    "## Play animation"
   ]
  },
  {
   "cell_type": "markdown",
   "metadata": {},
   "source": [
    "<img src=\"evolved_lander.gif\" width=\"750\">"
   ]
  },
  {
   "cell_type": "markdown",
   "metadata": {},
   "source": [
    "## Optimisation\n",
    "The coefficients in the multi-tree aren't optimised. Here Q-learning (taken from https://pytorch.org/tutorials/intermediate/reinforcement_q_learning.html) is used to optimise the weights further. Incorporate coefficient optimisation in training your agent(s). Coefficient Optimisation can be expensive. Think about how often you want to optimise, when, which individuals etc."
   ]
  },
  {
   "cell_type": "code",
   "execution_count": 35,
   "metadata": {},
   "outputs": [
    {
     "name": "stdout",
     "output_type": "stream",
     "text": [
      "['(((x_2*(x_4/0.00107493344694376))-((x_5+x_3)-(x_6/-3.0444393157958984)))/((x_6+(x_2*2.537029504776001))/(x_1-(x_0/x_5))))', '((x_0/(x_3+x_7))*(((x_6+x_0)/(x_6*x_1))-((x_4/-0.8279994091416236)-x_6)))', '((((x_0-x_1)-x_7)*((x_3/-3.2293877601623535)-(x_0/x_3)))+(((x_6-x_3)/(x_3-x_4))/(x_4*x_6)))', '(((x_5*(2.6896018981933594*x_7))+(x_5+x_0))/((x_7/(x_2-x_7))*((x_6*x_4)-2.450730562210083)))']\n",
      "-2373.91098482664\n"
     ]
    }
   ],
   "source": [
    "batch_size = 128\n",
    "GAMMA = 0.99\n",
    "\n",
    "constants = best.get_subtrees_consts()\n",
    "\n",
    "if len(constants)>0:\n",
    "  optimizer = optim.AdamW(constants, lr=1e-3, amsgrad=True)\n",
    "\n",
    "for _ in range(500):\n",
    "\n",
    "  if len(constants)>0 and len(evo.memory)>batch_size:\n",
    "    target_tree = copy.deepcopy(best)\n",
    "\n",
    "    transitions = evo.memory.sample(batch_size)\n",
    "    batch = Transition(*zip(*transitions))\n",
    "    \n",
    "    non_final_mask = torch.tensor(tuple(map(lambda s: s is not None,\n",
    "                                        batch.next_state)), dtype=torch.bool)\n",
    "\n",
    "    non_final_next_states = torch.cat([s for s in batch.next_state\n",
    "                                               if s is not None])\n",
    "    state_batch = torch.cat(batch.state)\n",
    "    action_batch = torch.cat(batch.action)\n",
    "    reward_batch = torch.cat(batch.reward)\n",
    "\n",
    "    state_action_values = best.get_output_pt(state_batch).gather(1, action_batch)\n",
    "    next_state_values = torch.zeros(batch_size, dtype=torch.float)\n",
    "    with torch.no_grad():\n",
    "      next_state_values[non_final_mask] = target_tree.get_output_pt(non_final_next_states).max(1)[0].float()\n",
    "\n",
    "    expected_state_action_values = (next_state_values * GAMMA) + reward_batch\n",
    "    \n",
    "    criterion = nn.SmoothL1Loss()\n",
    "    loss = criterion(state_action_values, expected_state_action_values.unsqueeze(1))\n",
    "   \n",
    "    # Optimize the model\n",
    "    optimizer.zero_grad()\n",
    "    loss.backward()\n",
    "    torch.nn.utils.clip_grad_value_(constants, 100)\n",
    "    optimizer.step()\n",
    "\n",
    "print(best.get_readable_repr())\n",
    "print(get_test_score(best))"
   ]
  },
  {
   "cell_type": "code",
   "execution_count": 36,
   "metadata": {},
   "outputs": [
    {
     "name": "stderr",
     "output_type": "stream",
     "text": [
      "MovieWriter imagemagick unavailable; using Pillow instead.\n"
     ]
    },
    {
     "data": {
      "image/png": "[encoded data removed]",
      "text/plain": [
       "<Figure size 600x400 with 1 Axes>"
      ]
     },
     "metadata": {},
     "output_type": "display_data"
    }
   ],
   "source": [
    "frames = []\n",
    "fitness_function_pt(best, num_episodes=1, episode_duration=500, render=True, ignore_done=False)\n",
    "env.close()\n",
    "save_frames_as_gif(frames, filename='evolved_lander_RL.gif')"
   ]
  },
  {
   "cell_type": "markdown",
   "metadata": {},
   "source": [
    "<img src=\"evolved_lander_RL.gif\" width=\"750\">"
   ]
  }
 ],
 "metadata": {
  "kernelspec": {
   "display_name": "Python 3",
   "language": "python",
   "name": "python3"
  },
  "language_info": {
   "codemirror_mode": {
    "name": "ipython",
    "version": 3
   },
   "file_extension": ".py",
   "mimetype": "text/x-python",
   "name": "python",
   "nbconvert_exporter": "python",
   "pygments_lexer": "ipython3",
   "version": "3.11.4"
  }
 },
 "nbformat": 4,
 "nbformat_minor": 4
}
