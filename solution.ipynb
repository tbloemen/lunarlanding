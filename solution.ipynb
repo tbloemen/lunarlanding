{
 "cells": [
  {
   "cell_type": "markdown",
   "metadata": {},
   "source": [
    "# Evolving a Lunar Lander with differentiable Genetic Programming"
   ]
  },
  {
   "cell_type": "markdown",
   "metadata": {},
   "source": [
    "## Installation\n",
    "To install the required libraries run the command:"
   ]
  },
  {
   "cell_type": "code",
   "execution_count": 2,
   "metadata": {},
   "outputs": [],
   "source": [
    "# !pip install -r requirements.txt"
   ]
  },
  {
   "cell_type": "markdown",
   "metadata": {},
   "source": [
    "## Imports\n",
    "Imports from the standard genepro-multi library are done here. Any adjustments (e.g. different operators) should be made in the notebook. For example:\n",
    "\n",
    "```\n",
    "class SmoothOperator(Node):\n",
    "  def __init__(self):\n",
    "    super(SmoothOperator,self).__init__()\n",
    "    self.arity = 1\n",
    "    self.symb = \"SmoothOperator\"\n",
    "\n",
    "  def _get_args_repr(self, args):\n",
    "    return self._get_typical_repr(args,'before')\n",
    "\n",
    "  def get_output(self, X):\n",
    "    c_outs = self._get_child_outputs(X)\n",
    "    return np.smoothOperation(c_outs[0])\n",
    "\n",
    "  def get_output_pt(self, X):\n",
    "    c_outs = self._get_child_outputs_pt(X)\n",
    "    return torch.smoothOperation(c_outs[0])\n",
    "```"
   ]
  },
  {
   "cell_type": "code",
   "execution_count": 3,
   "metadata": {},
   "outputs": [],
   "source": [
    "import gymnasium as gym\n",
    "\n",
    "from genepro.node_impl import *\n",
    "from genepro.evo import Evolution\n",
    "from genepro.node_impl import Constant\n",
    "\n",
    "import torch\n",
    "import torch.optim as optim\n",
    "\n",
    "import random\n",
    "import os\n",
    "import copy\n",
    "from collections import namedtuple, deque\n",
    "\n",
    "import matplotlib.pyplot as plt\n",
    "from matplotlib import animation"
   ]
  },
  {
   "cell_type": "markdown",
   "metadata": {},
   "source": [
    "## Reinforcement Learning Setup\n",
    "Here we first setup the Gymnasium environment. Please see https://gymnasium.farama.org/environments/box2d/lunar_lander/ for more information on the environment. \n",
    "\n",
    "Then a memory buffer is made. This is a buffer in which state transitions are stored. When the buffer reaches its maximum capacity old transitions are replaced by new ones.\n",
    "\n",
    "A frame buffer is initialised, used to later store animation frames of the environment."
   ]
  },
  {
   "cell_type": "markdown",
   "metadata": {},
   "source": [
    "#### Adding Wind\n",
    "\n",
    "Wind can be added to the current environment setup as below:\n",
    "\n",
    "```bash\n",
    "env = gym.make(\"LunarLander-v3\", continuous=False,\n",
    "               enable_wind=True, wind_power=15.0, turbulence_power=1.5)\n",
    "```\n",
    "\n",
    "Selin: When we add wind as a variable, it makes sense to also edit our fitness function. We can define a new boolean parameter (say have_random_wind) and if it is set to true when the fitness function is called, we can re-define the environment with a random wind value at each episode. This would potentially make our GP algorithm more robust to randomness. A possible implementation:\n",
    "\n",
    "```bash\n",
    "if use_random_wind:\n",
    "    env = gym.make(\"LunarLander-v3\", continuous=False,\n",
    "                    enable_wind=True,\n",
    "                    wind_power=np.random.uniform(5.0, 20.0),\n",
    "                    turbulence_power=np.random.uniform(0.5, 2.0))\n",
    "```\n",
    "\n",
    "The above can be added within the loop that goes over the episodes (the outer for loop of the fitness function)."
   ]
  },
  {
   "cell_type": "markdown",
   "metadata": {},
   "source": [
    "#### Adding new Atomic Functions\n",
    "\n",
    "These atomic functions will be added as internal nodes within the Evolution setup.\n",
    "\n",
    "We can add min & max operators. Or instead, we can add **Clamp(x, min, max)** operator. This could be interesting.\n",
    "\n",
    "We can add domain specific operators:\n",
    "- Maybe a function that calculates the angle of the lunarlander to the pad (angle_to_pad(x_pos, y_pos)?)\n",
    "\n",
    "#### Fitness Calculation\n",
    "\n",
    "For the final fitness calculation, we are taking the sum of the rewards across episodes. Instead of sum operation, can we do this fitness calculation in a more clever way?"
   ]
  },
  {
   "cell_type": "code",
   "execution_count": 4,
   "metadata": {},
   "outputs": [],
   "source": [
    "env = gym.make(\"LunarLander-v3\", render_mode=\"rgb_array\")"
   ]
  },
  {
   "cell_type": "code",
   "execution_count": 5,
   "metadata": {},
   "outputs": [],
   "source": [
    "Transition = namedtuple('Transition', ('state', 'action', 'next_state', 'reward'))\n",
    "\n",
    "class ReplayMemory(object):\n",
    "    def __init__(self, capacity):\n",
    "        self.memory = deque([], maxlen=capacity)\n",
    "\n",
    "    def push(self, *args):\n",
    "        \"\"\"Save a transition\"\"\"\n",
    "        self.memory.append(Transition(*args))\n",
    "\n",
    "    def sample(self, batch_size):\n",
    "        return random.sample(self.memory, batch_size)\n",
    "\n",
    "    def __len__(self):\n",
    "        return len(self.memory)\n",
    "\n",
    "    def __iadd__(self, other):\n",
    "      self.memory += other.memory\n",
    "      return self \n",
    "\n",
    "    def __add__(self, other):\n",
    "      self.memory = self.memory + other.memory \n",
    "      return self"
   ]
  },
  {
   "cell_type": "code",
   "execution_count": 6,
   "metadata": {},
   "outputs": [],
   "source": [
    "frames = []"
   ]
  },
  {
   "cell_type": "markdown",
   "metadata": {},
   "source": [
    "## Fitness Function\n",
    "\n",
    "Here you get to be creative. The default setup evaluates 5 episodes of 300 frames. Think of what action to pick and what fitness function to use. The Multi-tree takes an input of $n \\times d$ where $n$ is a batch of size 1."
   ]
  },
  {
   "cell_type": "markdown",
   "metadata": {},
   "source": [
    "### Selin's Notes\n",
    "\n",
    "**Fitness Function:** Fitness is defined as the cumulative reward of the landing.\n",
    "\n",
    "**Multitree:** Multitree contains 4 trees, one for each action of the Lunar lander. \n",
    "\n",
    "- `0`: do nothing\n",
    "- `1`: fire left orientation engine\n",
    "- `2`: fire main engine\n",
    "- `3`: fire right orientation engine\n",
    "\n",
    "Multitree is initialized under genepro/variation.py file, with the generate_random_multitree() method. This method is called in the genepro/evo.py file within the _initialize_population() internal method. \n",
    "\n",
    "**Understanding the Input Sample:** Input sample is an 8-dimensional vector: [x, y, vx, vy, angle, angular_velocity, leg1_contact, leg2_contact]\n",
    "\n",
    "e.g. [-2.5, -2.5, -10, -10, -6.28, -10, 0, 0]\n",
    "\n",
    "- index0 : x position of the lander\n",
    "- index1: y position of the lander\n",
    "- index2: velocity in the x direction\n",
    "- index3: velocity in the y direction\n",
    "- index4: angle of the lander\n",
    "- index5: angular velocity\n",
    "- index6: leg 1 in contact\n",
    "- index7: leg 2 in contact\n",
    "      \n"
   ]
  },
  {
   "cell_type": "code",
   "execution_count": null,
   "metadata": {},
   "outputs": [],
   "source": [
    "def fitness_function_pt(multitree, num_episodes=5, episode_duration=300, render=False, ignore_done=False):\n",
    "  memory = ReplayMemory(10000)\n",
    "  rewards = []\n",
    "\n",
    "  for _ in range(num_episodes):\n",
    "    # get initial state of the environment\n",
    "    observation = env.reset()\n",
    "    observation = observation[0]\n",
    "    \n",
    "    for _ in range(episode_duration):\n",
    "      if render:\n",
    "        frames.append(env.render())\n",
    "\n",
    "      input_sample = torch.from_numpy(observation.reshape((1,-1))).float() # Input sample is a torch tensor\n",
    "\n",
    "      # what goes here? TODO\n",
    "      '''Below is Selin's possible definition of an action'''\n",
    "      output_scores = multitree.get_output_pt(input_sample) # A tensor of length 4, storing the scores of each action (after evaluating each tree)\n",
    "      action = torch.argmax(output_scores, dim=1) # Select the action with the highest score\n",
    "      observation, reward, terminated, truncated, info = env.step(action.item())\n",
    "      rewards.append(reward)\n",
    "      output_sample = torch.from_numpy(observation.reshape((1,-1))).float()\n",
    "      memory.push(input_sample, torch.tensor([[action.item()]]), output_sample, torch.tensor([reward]))\n",
    "      if (terminated or truncated) and not ignore_done:\n",
    "        break\n",
    "        \n",
    "\n",
    "  fitness = np.sum(rewards)\n",
    "  \n",
    "  return fitness, memory"
   ]
  },
  {
   "cell_type": "markdown",
   "metadata": {},
   "source": [
    "## Evolution Setup\n",
    "Here the leaf and internal nodes are defined. Think about the odds of sampling a constant in this default configurations. Also think about any operators that could be useful and add them here. \n",
    "\n",
    "Adjust the population size (multiple of 8 if you want to use the standard tournament selection), max generations and max tree size to taste. Be aware that each of these settings can increase the runtime."
   ]
  },
  {
   "cell_type": "markdown",
   "metadata": {},
   "source": [
    "#### Selin's ideas about the things they wanted us to consider in the evolution setup (possible areas for improvement)\n",
    "\n",
    "In the below code, it says **Think about the probability of sampling a coefficient (which is basically a constant).** Currently, in the below code, we have 8 features and we are adding all of them as leaf nodes. \n",
    "\n",
    "However, we are only adding 1 constant as a leaf node. So this would give us a 1/9 chance of sampling a coefficient. This is a very small probability. Hence, **a possible area of improvement** might be to consider adding more constants (e.g. 4 or 5 constants) to our leaf nodes set and see how our GP performs. I think having constant is **important** because they allow the model to shift or scale features (e.g. x_4 + 1.5).\n",
    "\n",
    "**Having more operators:** Currently, we only have basic arithmetic operators. We can add the following non-linear operators:\n",
    "- log\n",
    "- sqrt\n",
    "- sin, cos\n",
    "- max, min\n",
    "- exp\n",
    "- square, cube, ...\n",
    "\n",
    "**Adjusting the parameters of the Evolution() method** called below. We can design an experiment to find the best combination of parameter values for population size, max generations, and max tree size."
   ]
  },
  {
   "cell_type": "code",
   "execution_count": 15,
   "metadata": {},
   "outputs": [],
   "source": [
    "num_features = env.observation_space.shape[0]\n",
    "leaf_nodes = [Feature(i) for i in range(num_features)]\n",
    "leaf_nodes = leaf_nodes + [Constant()] # Think about the probability of sampling a coefficient\n",
    "internal_nodes = [Plus(),Minus(),Times(),Div()] # Add your own operators here\n",
    "\n",
    "evo = Evolution(\n",
    "  fitness_function_pt, internal_nodes, leaf_nodes,\n",
    "  4,\n",
    "  pop_size=16,\n",
    "  max_gens=10,\n",
    "  max_tree_size=31,\n",
    "  n_jobs=8,\n",
    "  verbose=True)"
   ]
  },
  {
   "cell_type": "markdown",
   "metadata": {},
   "source": [
    "## Evolve\n",
    "Running this cell will use all the settings above as parameters"
   ]
  },
  {
   "cell_type": "code",
   "execution_count": null,
   "metadata": {},
   "outputs": [],
   "source": [
    "best_fitnesses_across_gens = evo.evolve()"
   ]
  },
  {
   "cell_type": "code",
   "execution_count": 16,
   "metadata": {},
   "outputs": [
    {
     "name": "stdout",
     "output_type": "stream",
     "text": [
      "['((x_0/(x_3-(x_5+x_1)))/(((x_0*x_3)*x_3)*((x_4+x_0)/x_0)))', '((((x_2*x_2)*(x_1+x_7))*((x_4/x_1)/(x_7*-3.93387770652771)))/((x_4*x_0)/((x_0/x_4)/(x_1*x_6))))', '((x_4-((x_4/x_1)-(x_7-x_7)))*(x_3+((x_1/1.4807254076004028)+(x_2*x_6))))', '((((x_2-x_1)+(x_0*x_6))-(x_1+x_3))/((x_4+x_6)/((x_0/x_5)*x_7)))']\n",
      "\n",
      "\n",
      "['(((x_1/(x_0/x_0))+(x_1*-0.702824592590332))-(x_1/x_0))', '(((x_2-(2.002896308898926-x_5))-(x_0+(x_2-x_5)))*(x_5-((x_1*x_4)+(x_7*x_2))))', '((((x_5/x_3)+x_0)-((x_5*x_2)-(x_7+-0.8709403872489929)))*((x_6-(x_6-x_2))+(4.223166465759277-(x_5*x_7))))', '(((x_1/x_1)-(x_3*(2.897439479827881*x_1)))-((x_7/x_4)*((-2.2132816314697266*x_7)+x_2)))']\n",
      "\n",
      "\n",
      "['(((x_4-x_6)/(x_5/(x_1*x_3)))+(((x_4+-3.697885274887085)-(x_2*x_4))-(x_7-(x_5/x_2))))', '(((x_3+(x_4/x_5))/(x_4/x_0))/((x_1*(x_7+x_5))+((x_7*x_2)+(x_0/x_6))))', '(((4.469911098480225-x_1)/(x_0*(x_4*x_0)))/((x_7/x_3)-(-0.9937397837638855+x_5)))', '(((x_6-(x_3*-1.6102499961853027))*(x_7+x_7))*(x_2/((x_0-x_7)*x_0)))']\n",
      "\n",
      "\n",
      "['((((x_6/x_4)+(x_2-x_4))-(x_4+(4.4231486320495605+x_5)))+(((1.97370445728302*x_6)-(x_1*x_7))+-3.5425705909729004))', '((((x_1+x_7)+x_4)*(x_1*x_3))/((x_5/(x_6*x_5))+((x_2*x_6)-(x_5-x_5))))', '(((x_4+x_2)/((x_0*x_1)-(x_4--1.308919906616211)))-((3.639596462249756+x_2)-x_1))', '((x_7*((1.5627533197402954/x_4)-(x_5-x_6)))/(x_0+(x_4-x_7)))']\n",
      "\n",
      "\n",
      "['(((x_4-x_7)-2.2190146446228027)/-3.92266845703125)', '(((x_0+x_1)/(x_3-(x_0*x_6)))+(((x_1-x_4)+(x_0/x_3))+(x_1-(x_2/x_4))))', '((((x_3/x_5)+x_0)*(-0.012144438922405243*(x_6-x_4)))-((x_3+x_4)/((x_6+x_7)/(x_1/x_4))))', '((((x_5/x_3)-(x_0*x_6))-((2.5219202041625977+x_4)/(x_3*x_5)))-(((x_2-4.0310587882995605)-(x_5/x_3))*((x_5/x_6)+x_1)))']\n",
      "\n",
      "\n",
      "['((x_5-(x_6/(x_0-x_5)))+((x_6/(3.839690923690796+x_5))*(x_4+(x_7-x_2))))', '((((x_0+x_3)+(x_1*x_6))*(x_1/0.13436828553676605))-(((x_4-x_7)+x_0)+((x_2+x_6)*(x_5+3.9347846508026123))))', '(((x_6*(x_2/0.46654486656188965))-(x_0+x_7))/(((x_4/x_6)-(4.456366062164307+-3.3272688388824463))+x_4))', '((((x_7+x_4)*(x_1*x_4))*((x_4+x_2)/(x_7/x_5)))+(((x_0/x_2)*(x_7/x_1))-((x_0*0.0157412551343441)-(x_4/x_7))))']\n",
      "\n",
      "\n",
      "['(((x_7-(x_1-x_4))*(x_6*x_5))+((x_2/-0.02740839682519436)/x_0))', '((x_5*((x_7+x_6)/(x_6/x_7)))-x_6)', '((((x_2-x_6)/x_3)-((x_0+-2.855240821838379)/x_2))*(((x_3/4.621584892272949)/x_6)*0.5646265149116516))', '(((x_0--4.262809753417969)+(x_1-(x_5*x_6)))/(((x_2+0.3148566484451294)+x_2)*(x_4/(x_5*x_7))))']\n",
      "\n",
      "\n",
      "['((((x_4+-1.5322086811065674)+(x_3/x_5))+(x_6*(x_0-x_1)))+x_0)', '((((x_7+x_6)*(x_6-x_3))-((x_3+-2.326052665710449)/(x_3+x_0)))+(((x_4/2.848849058151245)-x_2)/((x_4+x_6)-(x_7*x_3))))', '(((x_0*(x_0/x_3))/((x_3-x_7)*(x_6/x_5)))*((x_1-(x_6-x_3))-(x_5/(x_1*x_4))))', '(((-2.609499454498291+(x_2*x_5))/((x_2+-3.737035036087036)-(x_6/x_7)))*(x_2-((x_2/x_5)/(-1.6627874374389648/x_7))))']\n",
      "\n",
      "\n",
      "['(((x_6-(x_6*x_2))+(x_3+x_5))/((x_5*(x_7-x_5))+(x_5*(x_1-x_1))))', '((((x_2/-0.32109472155570984)*(x_0/x_5))*((x_0/x_3)*(x_0/x_1)))+(((x_5*x_1)+x_4)-(x_6+x_7)))', '(((-4.766879558563232+(x_6-x_0))-(x_3/(x_5*x_6)))/((x_1*x_1)*((x_1/x_7)/x_0)))', '(((x_6/(x_4*x_4))*(1.3807005882263184-(x_4*x_4)))*(((x_5*-3.957087993621826)/(x_3/x_6))-((x_6-x_0)*(x_0/x_2))))']\n",
      "\n",
      "\n",
      "['((((x_2/x_0)+x_2)--4.274135112762451)-((x_0/(x_1/x_1))+x_3))', '((((x_5+x_4)/3.7154130935668945)*(x_5*x_5))*(((x_0-x_6)-(x_3*x_4))-((x_2+x_2)+(x_2+x_0))))', '((x_2-((x_2+x_3)+x_2))+(((x_6+x_6)+(4.029433250427246+x_6))/(x_5+(x_0+x_0))))', '(((x_6*(x_7-x_4))-((x_0+x_5)-(x_4*x_7)))+((x_1-(x_1+x_0))*(x_2-(x_3-4.9936981201171875))))']\n",
      "\n",
      "\n",
      "['(((x_5*(x_4/x_3))+((4.937854290008545-x_1)+(x_1-x_3)))*x_2)', '((((x_4-x_1)-x_1)+(x_7+(x_0/x_2)))+((x_0/x_3)/((x_7/x_7)-x_5)))', '((x_4+((x_7*x_4)/(x_7*x_2)))+(x_0+((x_1+x_2)+(x_7-x_6))))', '(((x_5-x_3)*((-0.0790262371301651/x_4)+(x_0*x_2)))*((x_6/(x_7-x_4))+((1.1132546663284302*x_0)-x_0)))']\n",
      "\n",
      "\n",
      "['((((x_4/x_4)/(x_5/x_7))*((x_1/x_3)/(x_5/x_5)))*(((x_7*x_6)-0.18199951946735382)+(x_1+x_7)))', '(((x_6+(x_4+x_6))+((x_4+x_4)-(x_3*x_6)))-(((x_1+x_2)/(x_5*x_2))*(x_6*x_2)))', '(((x_3*(x_7*x_5))/(x_7/x_6))/((x_6+(x_2+-4.49193811416626))+((x_1+x_0)/(x_1-x_1))))', '((((x_7/x_7)/(x_6/x_0))/(x_5*(x_2*x_1)))+(((x_0*x_1)*-1.2891006469726562)+((x_7/x_3)/(4.135865211486816+-2.389531135559082))))']\n",
      "\n",
      "\n",
      "['(((x_7+(x_4/x_3))/((x_4-x_1)*(x_3*x_7)))*(((x_6*x_6)*x_4)*x_0))', '(((x_7*(-0.8718131184577942/x_1))-x_3)*((x_6+x_7)*(x_6+x_1)))', '((((2.5301921367645264-x_0)-3.2854909896850586)*(x_6+x_6))/(((x_7*x_4)+(x_6*x_6))*(x_2+x_1)))', '((((x_0*x_6)*x_7)-((x_5*x_1)+x_1))*(((x_7*x_4)/(x_4-x_5))+((x_7-x_4)+(x_6/x_5))))']\n",
      "\n",
      "\n",
      "['(((x_6/(2.6870386600494385/x_5))+((x_3-x_5)/(x_0+x_4)))--0.9868797063827515)', '((((x_4/x_1)*(x_1-x_7))*(x_0*(x_0/2.6018691062927246)))*(x_5-(x_1+(x_1-x_3))))', '((x_1*((x_0/x_6)+(x_2/x_4)))+(((x_0/x_0)-x_0)+(x_3/(x_2*x_1))))', '((((x_1-x_1)+(-1.3452043533325195*x_7))/((x_3*x_4)/(x_2-x_0)))-(((x_1-x_0)-(x_4+x_3))*((x_0-x_1)-(3.7519776821136475/4.3047285079956055))))']\n",
      "\n",
      "\n",
      "['(((x_0+x_6)*((2.558638572692871-x_0)/x_0))/((x_0*x_0)+x_3))', '((x_6-((x_2-x_6)*(x_2/x_3)))-(x_3/(x_4*(x_7/x_5))))', '(((x_7+1.9406397342681885)+x_2)*((x_1/x_7)+((x_3-x_6)-(x_5+x_2))))', '((((x_4/x_1)+(x_4+x_4))-((x_6/x_2)-(x_1-x_7)))*(((x_0+x_4)+3.593812942504883)*((x_1+x_2)*x_3)))']\n",
      "\n",
      "\n",
      "['((((x_2+x_3)-(x_0-x_4))+(x_4-x_1))*(((x_5*-0.4525688886642456)-(x_6*x_5))/((x_1-x_1)*x_3)))', '(((x_3/(x_5*x_6))/((x_4-x_1)+(x_1-4.41016149520874)))*((x_1*(x_6*x_3))-x_5))', '(((x_2-x_2)*x_0)/(((x_5/x_4)+x_2)+((x_3-x_6)-(x_4*2.9555797576904297))))', '(((x_7/(x_7/x_1))*((x_0-x_6)-x_6))-(((x_0-x_4)/(x_3*x_5))/(x_2+x_7)))']\n",
      "\n",
      "\n"
     ]
    },
    {
     "ename": "TypeError",
     "evalue": "'NoneType' object is not iterable",
     "output_type": "error",
     "traceback": [
      "\u001b[31m---------------------------------------------------------------------------\u001b[39m",
      "\u001b[31mTypeError\u001b[39m                                 Traceback (most recent call last)",
      "\u001b[36mCell\u001b[39m\u001b[36m \u001b[39m\u001b[32mIn[16]\u001b[39m\u001b[32m, line 1\u001b[39m\n\u001b[32m----> \u001b[39m\u001b[32m1\u001b[39m \u001b[43mevo\u001b[49m\u001b[43m.\u001b[49m\u001b[43mevolve\u001b[49m\u001b[43m(\u001b[49m\u001b[43m)\u001b[49m\n",
      "\u001b[36mFile \u001b[39m\u001b[32m~/Documents/uni/lunarlanding/genepro/evo.py:235\u001b[39m, in \u001b[36mEvolution.evolve\u001b[39m\u001b[34m(self)\u001b[39m\n\u001b[32m    232\u001b[39m \u001b[38;5;66;03m# set the start time\u001b[39;00m\n\u001b[32m    233\u001b[39m \u001b[38;5;28mself\u001b[39m.start_time = time.time()\n\u001b[32m--> \u001b[39m\u001b[32m235\u001b[39m \u001b[38;5;28;43mself\u001b[39;49m\u001b[43m.\u001b[49m\u001b[43m_initialize_population\u001b[49m\u001b[43m(\u001b[49m\u001b[43m)\u001b[49m\n\u001b[32m    237\u001b[39m \u001b[38;5;66;03m# generational loop\u001b[39;00m\n\u001b[32m    238\u001b[39m \u001b[38;5;28;01mwhile\u001b[39;00m \u001b[38;5;129;01mnot\u001b[39;00m \u001b[38;5;28mself\u001b[39m._must_terminate():\n\u001b[32m    239\u001b[39m   \u001b[38;5;66;03m# perform one generation\u001b[39;00m\n",
      "\u001b[36mFile \u001b[39m\u001b[32m~/Documents/uni/lunarlanding/genepro/evo.py:170\u001b[39m, in \u001b[36mEvolution._initialize_population\u001b[39m\u001b[34m(self)\u001b[39m\n\u001b[32m    168\u001b[39m \u001b[38;5;66;03m# evaluate the trees and store their fitness\u001b[39;00m\n\u001b[32m    169\u001b[39m fitnesses = Parallel(n_jobs=\u001b[38;5;28mself\u001b[39m.n_jobs)(delayed(\u001b[38;5;28mself\u001b[39m.fitness_function)(t) \u001b[38;5;28;01mfor\u001b[39;00m t \u001b[38;5;129;01min\u001b[39;00m \u001b[38;5;28mself\u001b[39m.population)\n\u001b[32m--> \u001b[39m\u001b[32m170\u001b[39m fitnesses = \u001b[38;5;28mlist\u001b[39m(\u001b[38;5;28mmap\u001b[39m(\u001b[38;5;28mlist\u001b[39m, \u001b[38;5;28;43mzip\u001b[39;49m\u001b[43m(\u001b[49m\u001b[43m*\u001b[49m\u001b[43mfitnesses\u001b[49m\u001b[43m)\u001b[49m))\n\u001b[32m    171\u001b[39m memories = fitnesses[\u001b[32m1\u001b[39m]\n\u001b[32m    172\u001b[39m memory = memories[\u001b[32m0\u001b[39m]\n",
      "\u001b[31mTypeError\u001b[39m: 'NoneType' object is not iterable"
     ]
    }
   ],
   "source": [
    "print(best_fitnesses_across_gens)"
   ]
  },
  {
   "cell_type": "markdown",
   "metadata": {},
   "source": [
    "# Test"
   ]
  },
  {
   "cell_type": "code",
   "execution_count": 20,
   "metadata": {},
   "outputs": [
    {
     "name": "stdout",
     "output_type": "stream",
     "text": [
      "['(((x_5/x_6)+(-3.7748808065959762*(x_1*x_3)))*(((x_6-x_1)+(-3.0595815181732178*x_6))/(x_6-x_4)))', '(x_3/(((4.227174104968074/x_6)+x_3)+((x_3/x_4)*((x_3/x_4)*(-3.1707377433776855-x_7)))))', '(x_1/1.594401240348816)', '(((x_1-x_2)*((-3.8168256282806396+x_5)/x_0))/(-2.6871719360351562*((x_1-3.2856736183166504)+(-2.6871719360351562*((x_1-3.2856736183166504)+(x_6*0.9377084374427795))))))']\n",
      "-1388.155481696797\n"
     ]
    }
   ],
   "source": [
    "def get_test_score(tree):\n",
    "    rewards = []\n",
    "\n",
    "    for i in range(10):\n",
    "      # get initial state\n",
    "      observation = env.reset(seed=i)\n",
    "      observation = observation[0]\n",
    "\n",
    "      for _ in range(500):    \n",
    "        # build up the input sample for GP\n",
    "        input_sample = torch.from_numpy(observation.reshape((1,-1))).float()\n",
    "        \n",
    "        # TODO: Again, define the action\n",
    "        '''Selin's idea of an action is added below'''\n",
    "        # get output (squeezing because it is encapsulated in an array)\n",
    "        output = tree.get_output_pt(input_sample)\n",
    "        action = torch.argmax(output, dim=1) # Select the action with the highest score\n",
    "        \n",
    "        observation, reward, terminated, truncated, info = env.step(action.item())\n",
    "        rewards.append(reward)\n",
    "        output_sample = torch.from_numpy(observation.reshape((1,-1))).float()\n",
    "        if (terminated or truncated):\n",
    "            break\n",
    "\n",
    "    fitness = np.sum(rewards)\n",
    "    \n",
    "    return fitness\n",
    "\n",
    "best = evo.best_of_gens[-1]\n",
    "\n",
    "print(best.get_readable_repr())\n",
    "print(get_test_score(best))"
   ]
  },
  {
   "cell_type": "markdown",
   "metadata": {},
   "source": [
    "## Our Experimentation Setup"
   ]
  },
  {
   "cell_type": "code",
   "execution_count": 21,
   "metadata": {},
   "outputs": [
    {
     "data": {
      "text/plain": [
       "\"\\nConfiguring the fitness function\\nTEST 1.1 Single objective: Experiment with different quality metrics for fitness\\nTEST 1.2 Multi-objective: Include diversity as a second metric\\n\\nRequired additional arguments for fitness function: has_wind=False, reward_type='sum', is_multiobjective=False\\nwhere reward_types = ['sum', 'min', 'weighted_sum']\\n\\nWind Test \\nAdding wind as a variable, and also adding a random wind value at each episode\\n\""
      ]
     },
     "execution_count": 21,
     "metadata": {},
     "output_type": "execute_result"
    }
   ],
   "source": [
    "# TEST TYPE 1. Improving the Fitness Function\n",
    "'''\n",
    "Configuring the fitness function\n",
    "TEST 1.1 Single objective: Experiment with different quality metrics for fitness\n",
    "TEST 1.2 Multi-objective: Include diversity as a second metric\n",
    "\n",
    "Required additional arguments for fitness function: has_wind=False, reward_type='sum', is_multiobjective=False\n",
    "where reward_types = ['sum', 'min', 'weighted_sum']\n",
    "\n",
    "Wind Test \n",
    "Adding wind as a variable, and also adding a random wind value at each episode\n",
    "''' "
   ]
  },
  {
   "cell_type": "code",
   "execution_count": 22,
   "metadata": {},
   "outputs": [],
   "source": [
    "def main_experimentation_loop(fitness_function_version, internal_nodes, leaf_nodes,\n",
    "                                pop_size=16, max_gens=10, max_tree_size=31):\n",
    "            \n",
    "    # Initialize an evolution setup with the correct fitness function\n",
    "    evo = Evolution(\n",
    "            fitness_function_version, \n",
    "            internal_nodes, \n",
    "            leaf_nodes,\n",
    "            n_trees=4, # Number of trees in multitree is fixed to 4\n",
    "            pop_size=pop_size,\n",
    "            max_gens=max_gens,\n",
    "            max_tree_size=max_tree_size,\n",
    "            n_jobs=8, # Number of jobs is fixed to 8\n",
    "            verbose=True)\n",
    "    \n",
    "    # Run the training loop for this evolution setup and get the fitnesses of the best individuals across generations\n",
    "    best_fitnesses_training = evo.evolve()\n",
    "\n",
    "    # Now, run the testing loop for this evolution setup and get the fitnesses of the best individuals across generations\n",
    "    # Extract best-of-generation trees\n",
    "    best_individuals = evo.best_of_gens\n",
    "\n",
    "    # Collect test scores for each best individual\n",
    "    best_fitnesses_test = [\n",
    "        get_test_score(ind) for ind in best_individuals\n",
    "    ]\n",
    "\n",
    "    return best_fitnesses_training, best_fitnesses_test"
   ]
  },
  {
   "cell_type": "markdown",
   "metadata": {},
   "source": [
    "## Make an animation\n",
    "Here the best evolved individual is selected and one episode is rendered. Make sure to save your lunar landers over time to track progress and make comparisons."
   ]
  },
  {
   "cell_type": "code",
   "execution_count": 23,
   "metadata": {},
   "outputs": [
    {
     "name": "stderr",
     "output_type": "stream",
     "text": [
      "MovieWriter imagemagick unavailable; using Pillow instead.\n"
     ]
    },
    {
     "data": {
      "image/png": "[encoded data removed]",
      "text/plain": [
       "<Figure size 600x400 with 1 Axes>"
      ]
     },
     "metadata": {},
     "output_type": "display_data"
    }
   ],
   "source": [
    "frames = []\n",
    "\n",
    "# gist to save gif from https://gist.github.com/botforge/64cbb71780e6208172bbf03cd9293553\n",
    "def save_frames_as_gif(frames, path='./', filename='evolved_lander.gif'):\n",
    "  plt.figure(figsize=(frames[0].shape[1] / 72.0, frames[0].shape[0] / 72.0), dpi=72)\n",
    "  patch = plt.imshow(frames[0])\n",
    "  plt.axis('off')\n",
    "  def animate(i):\n",
    "      patch.set_data(frames[i])\n",
    "  anim = animation.FuncAnimation(plt.gcf(), animate, frames = len(frames), interval=50)\n",
    "  anim.save(path + filename, writer='imagemagick', fps=60)\n",
    "\n",
    "frames = []\n",
    "fitness_function_pt(best, num_episodes=1, episode_duration=500, render=True, ignore_done=False)\n",
    "env.close()\n",
    "save_frames_as_gif(frames)"
   ]
  },
  {
   "cell_type": "markdown",
   "metadata": {},
   "source": [
    "## Play animation"
   ]
  },
  {
   "cell_type": "markdown",
   "metadata": {},
   "source": [
    "<img src=\"evolved_lander.gif\" width=\"750\">"
   ]
  },
  {
   "cell_type": "markdown",
   "metadata": {},
   "source": [
    "## Optimisation\n",
    "The coefficients in the multi-tree aren't optimised. Here Q-learning (taken from https://pytorch.org/tutorials/intermediate/reinforcement_q_learning.html) is used to optimise the weights further. Incorporate coefficient optimisation in training your agent(s). Coefficient Optimisation can be expensive. Think about how often you want to optimise, when, which individuals etc."
   ]
  },
  {
   "cell_type": "code",
   "execution_count": 24,
   "metadata": {},
   "outputs": [
    {
     "name": "stdout",
     "output_type": "stream",
     "text": [
      "['(((x_5/x_6)+(-4.11182176485342*(x_1*x_3)))*(((x_6-x_1)+(-2.984497547149658*x_6))/(x_6-x_4)))', '(x_3/(((4.09736595655765/x_6)+x_3)+((x_3/x_4)*((x_3/x_4)*(-3.2708077430725098-x_7)))))', '(x_1/1.0128785371780396)', '(((x_1-x_2)*((-3.708533525466919+x_5)/x_0))/(-2.770970106124878*((x_1-3.142789125442505)+(-2.66524600982666*((x_1-3.4329545497894287)+(x_6*0.9270513653755188))))))']\n",
      "-1388.155481696797\n"
     ]
    }
   ],
   "source": [
    "batch_size = 128\n",
    "GAMMA = 0.99\n",
    "\n",
    "constants = best.get_subtrees_consts()\n",
    "\n",
    "if len(constants)>0:\n",
    "  optimizer = optim.AdamW(constants, lr=1e-3, amsgrad=True)\n",
    "\n",
    "for _ in range(500):\n",
    "\n",
    "  if len(constants)>0 and len(evo.memory)>batch_size:\n",
    "    target_tree = copy.deepcopy(best)\n",
    "\n",
    "    transitions = evo.memory.sample(batch_size)\n",
    "    batch = Transition(*zip(*transitions))\n",
    "    \n",
    "    non_final_mask = torch.tensor(tuple(map(lambda s: s is not None,\n",
    "                                        batch.next_state)), dtype=torch.bool)\n",
    "\n",
    "    non_final_next_states = torch.cat([s for s in batch.next_state\n",
    "                                               if s is not None])\n",
    "    state_batch = torch.cat(batch.state)\n",
    "    action_batch = torch.cat(batch.action)\n",
    "    reward_batch = torch.cat(batch.reward)\n",
    "\n",
    "    state_action_values = best.get_output_pt(state_batch).gather(1, action_batch)\n",
    "    next_state_values = torch.zeros(batch_size, dtype=torch.float)\n",
    "    with torch.no_grad():\n",
    "      next_state_values[non_final_mask] = target_tree.get_output_pt(non_final_next_states).max(1)[0].float()\n",
    "\n",
    "    expected_state_action_values = (next_state_values * GAMMA) + reward_batch\n",
    "    \n",
    "    criterion = nn.SmoothL1Loss()\n",
    "    loss = criterion(state_action_values, expected_state_action_values.unsqueeze(1))\n",
    "   \n",
    "    # Optimize the model\n",
    "    optimizer.zero_grad()\n",
    "    loss.backward()\n",
    "    torch.nn.utils.clip_grad_value_(constants, 100)\n",
    "    optimizer.step()\n",
    "\n",
    "print(best.get_readable_repr())\n",
    "print(get_test_score(best))"
   ]
  },
  {
   "cell_type": "code",
   "execution_count": 25,
   "metadata": {},
   "outputs": [
    {
     "name": "stderr",
     "output_type": "stream",
     "text": [
      "MovieWriter imagemagick unavailable; using Pillow instead.\n"
     ]
    },
    {
     "data": {
      "image/png": "[encoded data removed]",
      "text/plain": [
       "<Figure size 600x400 with 1 Axes>"
      ]
     },
     "metadata": {},
     "output_type": "display_data"
    }
   ],
   "source": [
    "frames = []\n",
    "fitness_function_pt(best, num_episodes=1, episode_duration=500, render=True, ignore_done=False)\n",
    "env.close()\n",
    "save_frames_as_gif(frames, filename='evolved_lander_RL.gif')"
   ]
  },
  {
   "cell_type": "markdown",
   "metadata": {},
   "source": [
    "<img src=\"evolved_lander_RL.gif\" width=\"750\">"
   ]
  }
 ],
 "metadata": {
  "kernelspec": {
   "display_name": ".venv",
   "language": "python",
   "name": "python3"
  },
  "language_info": {
   "codemirror_mode": {
    "name": "ipython",
    "version": 3
   },
   "file_extension": ".py",
   "mimetype": "text/x-python",
   "name": "python",
   "nbconvert_exporter": "python",
   "pygments_lexer": "ipython3",
   "version": "3.12.3"
  }
 },
 "nbformat": 4,
 "nbformat_minor": 4
}
