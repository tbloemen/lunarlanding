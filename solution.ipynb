{
 "cells": [
  {
   "metadata": {},
   "cell_type": "markdown",
   "source": "# Evolving a Lunar Lander with differentiable Genetic Programming"
  },
  {
   "metadata": {},
   "cell_type": "markdown",
   "source": [
    "## Installation\n",
    "To install the required libraries run the command:"
   ]
  },
  {
   "metadata": {
    "ExecuteTime": {
     "end_time": "2025-06-08T10:13:04.626960Z",
     "start_time": "2025-06-08T10:13:04.061967Z"
    }
   },
   "cell_type": "code",
   "source": "# !pip install -r requirements.txt",
   "outputs": [],
   "execution_count": 30
  },
  {
   "metadata": {},
   "cell_type": "markdown",
   "source": [
    "## Imports\n",
    "Imports from the standard genepro-multi library are done here. Any adjustments (e.g. different operators) should be made in the notebook. For example:\n",
    "\n",
    "```\n",
    "class SmoothOperator(Node):\n",
    "  def __init__(self):\n",
    "    super(SmoothOperator,self).__init__()\n",
    "    self.arity = 1\n",
    "    self.symb = \"SmoothOperator\"\n",
    "\n",
    "  def _get_args_repr(self, args):\n",
    "    return self._get_typical_repr(args,'before')\n",
    "\n",
    "  def get_output(self, X):\n",
    "    c_outs = self._get_child_outputs(X)\n",
    "    return np.smoothOperation(c_outs[0])\n",
    "\n",
    "  def get_output_pt(self, X):\n",
    "    c_outs = self._get_child_outputs_pt(X)\n",
    "    return torch.smoothOperation(c_outs[0])\n",
    "```"
   ]
  },
  {
   "metadata": {
    "ExecuteTime": {
     "end_time": "2025-06-08T10:13:04.626960Z",
     "start_time": "2025-06-08T10:13:04.129968Z"
    }
   },
   "cell_type": "code",
   "source": [
    "import gymnasium as gym\n",
    "\n",
    "from genepro.node_impl import *\n",
    "from genepro.evo import Evolution\n",
    "from genepro.node_impl import Constant\n",
    "\n",
    "import torch\n",
    "import torch.optim as optim\n",
    "\n",
    "import random\n",
    "import os\n",
    "import copy\n",
    "from collections import namedtuple, deque\n",
    "\n",
    "import matplotlib.pyplot as plt\n",
    "from matplotlib import animation"
   ],
   "outputs": [],
   "execution_count": 31
  },
  {
   "metadata": {},
   "cell_type": "markdown",
   "source": [
    "## Reinforcement Learning Setup\n",
    "Here we first setup the Gymnasium environment. Please see https://gymnasium.farama.org/environments/box2d/lunar_lander/ for more information on the environment. \n",
    "\n",
    "Then a memory buffer is made. This is a buffer in which state transitions are stored. When the buffer reaches its maximum capacity old transitions are replaced by new ones.\n",
    "\n",
    "A frame buffer is initialised, used to later store animation frames of the environment."
   ]
  },
  {
   "metadata": {},
   "cell_type": "markdown",
   "source": [
    "#### Adding Wind\n",
    "\n",
    "Wind can be added to the current environment setup as below:\n",
    "\n",
    "```bash\n",
    "env = gym.make(\"LunarLander-v3\", continuous=False,\n",
    "               enable_wind=True, wind_power=15.0, turbulence_power=1.5)\n",
    "```\n",
    "\n",
    "Selin: When we add wind as a variable, it makes sense to also edit our fitness function. We can define a new boolean parameter (say have_random_wind) and if it is set to true when the fitness function is called, we can re-define the environment with a random wind value at each episode. This would potentially make our GP algorithm more robust to randomness. A possible implementation:\n",
    "\n",
    "```bash\n",
    "if use_random_wind:\n",
    "    env = gym.make(\"LunarLander-v3\", continuous=False,\n",
    "                    enable_wind=True,\n",
    "                    wind_power=np.random.uniform(5.0, 20.0),\n",
    "                    turbulence_power=np.random.uniform(0.5, 2.0))\n",
    "```\n",
    "\n",
    "The above can be added within the loop that goes over the episodes (the outer for loop of the fitness function)."
   ]
  },
  {
   "metadata": {},
   "cell_type": "markdown",
   "source": [
    "#### Adding new Atomic Functions\n",
    "\n",
    "These atomic functions will be added as internal nodes within the Evolution setup.\n",
    "\n",
    "We can add min & max operators. Or instead, we can add **Clamp(x, min, max)** operator. This could be interesting.\n",
    "\n",
    "We can add domain specific operators:\n",
    "- Maybe a function that calculates the angle of the lunarlander to the pad (angle_to_pad(x_pos, y_pos)?)\n",
    "\n",
    "#### Fitness Calculation\n",
    "\n",
    "For the final fitness calculation, we are taking the sum of the rewards across episodes. Instead of sum operation, can we do this fitness calculation in a more clever way?"
   ]
  },
  {
   "metadata": {
    "ExecuteTime": {
     "end_time": "2025-06-08T10:13:04.204960Z",
     "start_time": "2025-06-08T10:13:04.190961Z"
    }
   },
   "cell_type": "code",
   "source": "env = gym.make(\"LunarLander-v3\", render_mode=\"rgb_array\")",
   "outputs": [],
   "execution_count": 32
  },
  {
   "metadata": {
    "ExecuteTime": {
     "end_time": "2025-06-08T10:13:04.282963Z",
     "start_time": "2025-06-08T10:13:04.269962Z"
    }
   },
   "cell_type": "code",
   "source": [
    "Transition = namedtuple('Transition', ('state', 'action', 'next_state', 'reward'))\n",
    "\n",
    "class ReplayMemory(object):\n",
    "    def __init__(self, capacity):\n",
    "        self.memory = deque([], maxlen=capacity)\n",
    "\n",
    "    def push(self, *args):\n",
    "        \"\"\"Save a transition\"\"\"\n",
    "        self.memory.append(Transition(*args))\n",
    "\n",
    "    def sample(self, batch_size):\n",
    "        return random.sample(self.memory, batch_size)\n",
    "\n",
    "    def __len__(self):\n",
    "        return len(self.memory)\n",
    "\n",
    "    def __iadd__(self, other):\n",
    "      self.memory += other.memory\n",
    "      return self \n",
    "\n",
    "    def __add__(self, other):\n",
    "      self.memory = self.memory + other.memory \n",
    "      return self"
   ],
   "outputs": [],
   "execution_count": 33
  },
  {
   "metadata": {
    "ExecuteTime": {
     "end_time": "2025-06-08T10:13:04.343959Z",
     "start_time": "2025-06-08T10:13:04.329961Z"
    }
   },
   "cell_type": "code",
   "source": "frames = []",
   "outputs": [],
   "execution_count": 34
  },
  {
   "metadata": {},
   "cell_type": "markdown",
   "source": [
    "## Fitness Function\n",
    "\n",
    "Here you get to be creative. The default setup evaluates 5 episodes of 300 frames. Think of what action to pick and what fitness function to use. The Multi-tree takes an input of $n \\times d$ where $n$ is a batch of size 1."
   ]
  },
  {
   "metadata": {},
   "cell_type": "markdown",
   "source": [
    "### Selin's Notes\n",
    "\n",
    "**Fitness Function:** Fitness is defined as the cumulative reward of the landing.\n",
    "\n",
    "**Multitree:** Multitree contains 4 trees, one for each action of the Lunar lander. \n",
    "\n",
    "- `0`: do nothing\n",
    "- `1`: fire left orientation engine\n",
    "- `2`: fire main engine\n",
    "- `3`: fire right orientation engine\n",
    "\n",
    "Multitree is initialized under genepro/variation.py file, with the generate_random_multitree() method. This method is called in the genepro/evo.py file within the _initialize_population() internal method. \n",
    "\n",
    "**Understanding the Input Sample:** Input sample is an 8-dimensional vector: [x, y, vx, vy, angle, angular_velocity, leg1_contact, leg2_contact]\n",
    "\n",
    "e.g. [-2.5, -2.5, -10, -10, -6.28, -10, 0, 0]\n",
    "\n",
    "- index0 : x position of the lander\n",
    "- index1: y position of the lander\n",
    "- index2: velocity in the x direction\n",
    "- index3: velocity in the y direction\n",
    "- index4: angle of the lander\n",
    "- index5: angular velocity\n",
    "- index6: leg 1 in contact\n",
    "- index7: leg 2 in contact\n",
    "      \n"
   ]
  },
  {
   "metadata": {
    "ExecuteTime": {
     "end_time": "2025-06-08T10:13:04.405959Z",
     "start_time": "2025-06-08T10:13:04.390959Z"
    }
   },
   "cell_type": "code",
   "source": [
    "def make_fitness_function_pt(reduction='sum', has_wind=False):\n",
    "  '''\n",
    "  Generic fitness function factory\n",
    "  '''\n",
    "  def fitness_function(multitree, num_episodes=5, episode_duration=300, render=False, ignore_done=False):\n",
    "    memory = ReplayMemory(10000)\n",
    "    episode_returns = []\n",
    "\n",
    "    for _ in range(num_episodes):\n",
    "      rewards = []\n",
    "      # define a new environment with or without wind\n",
    "      if has_wind: \n",
    "        env = gym.make(\"LunarLander-v3\", render_mode=\"rgb_array\",\n",
    "                        enable_wind=True,\n",
    "                        wind_power=np.random.uniform(0.0, 2.0), # TODO: Update the parameters for wind if necessary\n",
    "                        turbulence_power=np.random.uniform(0.0, 1.0)) # TODO: Update the parameters for turbulence if necessary\n",
    "      else:\n",
    "        env = gym.make(\"LunarLander-v3\", render_mode=\"rgb_array\")\n",
    "        \n",
    "      observation = env.reset()\n",
    "      observation = observation[0]\n",
    "      \n",
    "      for _ in range(episode_duration):\n",
    "        if render:\n",
    "          frames.append(env.render())\n",
    "\n",
    "        input_sample = torch.from_numpy(observation.reshape((1,-1))).float() # Input sample is a torch tensor\n",
    "\n",
    "        # what goes here? TODO\n",
    "        '''Below is Selin's possible definition of an action'''\n",
    "        output_scores = multitree.get_output_pt(input_sample) # A tensor of length 4, storing the scores of each action (after evaluating each tree)\n",
    "        action = torch.argmax(output_scores, dim=1) # Select the action with the highest score\n",
    "        observation, reward, terminated, truncated, info = env.step(action.item())\n",
    "        rewards.append(reward)\n",
    "        output_sample = torch.from_numpy(observation.reshape((1,-1))).float()\n",
    "        memory.push(input_sample, torch.tensor([[action.item()]]), output_sample, torch.tensor([reward]))\n",
    "        if (terminated or truncated) and not ignore_done:\n",
    "          break\n",
    "      \n",
    "      # Store the sum of rewards for this episode\n",
    "      episode_returns.append(np.sum(rewards))\n",
    "          \n",
    "    # Define the reward types here\n",
    "    # TODO: Add more reward types!\n",
    "    if reduction == 'sum':\n",
    "      fitness = np.sum(episode_returns)\n",
    "    elif reduction == 'avg':\n",
    "      fitness = np.sum(episode_returns) / num_episodes\n",
    "    elif reduction == 'min':\n",
    "      fitness = np.min(episode_returns)\n",
    "    else:\n",
    "      raise ValueError(f\"Unknown reduction method: {reduction}\")\n",
    "    \n",
    "    return fitness, memory\n",
    "  \n",
    "  return fitness_function"
   ],
   "outputs": [],
   "execution_count": 35
  },
  {
   "metadata": {},
   "cell_type": "markdown",
   "source": [
    "## Evolution Setup\n",
    "Here the leaf and internal nodes are defined. Think about the odds of sampling a constant in this default configurations. Also think about any operators that could be useful and add them here. \n",
    "\n",
    "Adjust the population size (multiple of 8 if you want to use the standard tournament selection), max generations and max tree size to taste. Be aware that each of these settings can increase the runtime."
   ]
  },
  {
   "metadata": {},
   "cell_type": "markdown",
   "source": [
    "#### Selin's ideas about the things they wanted us to consider in the evolution setup (possible areas for improvement)\n",
    "\n",
    "In the below code, it says **Think about the probability of sampling a coefficient (which is basically a constant).** Currently, in the below code, we have 8 features and we are adding all of them as leaf nodes. \n",
    "\n",
    "However, we are only adding 1 constant as a leaf node. So this would give us a 1/9 chance of sampling a coefficient. This is a very small probability. Hence, **a possible area of improvement** might be to consider adding more constants (e.g. 4 or 5 constants) to our leaf nodes set and see how our GP performs. I think having constant is **important** because they allow the model to shift or scale features (e.g. x_4 + 1.5).\n",
    "\n",
    "**Having more operators:** Currently, we only have basic arithmetic operators. We can add the following non-linear operators:\n",
    "- log\n",
    "- sqrt\n",
    "- sin, cos\n",
    "- max, min\n",
    "- exp\n",
    "- square, cube, ...\n",
    "\n",
    "**Adjusting the parameters of the Evolution() method** called below. We can design an experiment to find the best combination of parameter values for population size, max generations, and max tree size."
   ]
  },
  {
   "metadata": {
    "ExecuteTime": {
     "end_time": "2025-06-08T10:13:04.499960Z",
     "start_time": "2025-06-08T10:13:04.454959Z"
    }
   },
   "cell_type": "code",
   "source": [
    "num_features = env.observation_space.shape[0]\n",
    "leaf_nodes = [Feature(i) for i in range(num_features)]\n",
    "leaf_nodes = leaf_nodes + [Constant()] # Think about the probability of sampling a coefficient\n",
    "internal_nodes = [Plus(),Minus(),Times(),Div()] # Add your own operators here\n",
    "\n",
    "fitness_function_pt = make_fitness_function_pt(reduction='sum') # Baseline fitness function\n",
    "\n",
    "evo = Evolution(\n",
    "  fitness_function_pt, internal_nodes, leaf_nodes,\n",
    "  4,\n",
    "  pop_size=16,\n",
    "  max_gens=10,\n",
    "  max_tree_size=31,\n",
    "  n_jobs=8,\n",
    "  verbose=True)"
   ],
   "outputs": [
    {
     "ename": "KeyError",
     "evalue": "'k'",
     "output_type": "error",
     "traceback": [
      "\u001B[1;31m---------------------------------------------------------------------------\u001B[0m",
      "\u001B[1;31mKeyError\u001B[0m                                  Traceback (most recent call last)",
      "Cell \u001B[1;32mIn[36], line 8\u001B[0m\n\u001B[0;32m      4\u001B[0m internal_nodes \u001B[38;5;241m=\u001B[39m [Plus(),Minus(),Times(),Div()] \u001B[38;5;66;03m# Add your own operators here\u001B[39;00m\n\u001B[0;32m      6\u001B[0m fitness_function_pt \u001B[38;5;241m=\u001B[39m make_fitness_function_pt(reduction\u001B[38;5;241m=\u001B[39m\u001B[38;5;124m'\u001B[39m\u001B[38;5;124msum\u001B[39m\u001B[38;5;124m'\u001B[39m) \u001B[38;5;66;03m# Baseline fitness function\u001B[39;00m\n\u001B[1;32m----> 8\u001B[0m evo \u001B[38;5;241m=\u001B[39m \u001B[43mEvolution\u001B[49m\u001B[43m(\u001B[49m\n\u001B[0;32m      9\u001B[0m \u001B[43m  \u001B[49m\u001B[43mfitness_function_pt\u001B[49m\u001B[43m,\u001B[49m\u001B[43m \u001B[49m\u001B[43minternal_nodes\u001B[49m\u001B[43m,\u001B[49m\u001B[43m \u001B[49m\u001B[43mleaf_nodes\u001B[49m\u001B[43m,\u001B[49m\n\u001B[0;32m     10\u001B[0m \u001B[43m  \u001B[49m\u001B[38;5;241;43m4\u001B[39;49m\u001B[43m,\u001B[49m\n\u001B[0;32m     11\u001B[0m \u001B[43m  \u001B[49m\u001B[43mpop_size\u001B[49m\u001B[38;5;241;43m=\u001B[39;49m\u001B[38;5;241;43m16\u001B[39;49m\u001B[43m,\u001B[49m\n\u001B[0;32m     12\u001B[0m \u001B[43m  \u001B[49m\u001B[43mmax_gens\u001B[49m\u001B[38;5;241;43m=\u001B[39;49m\u001B[38;5;241;43m10\u001B[39;49m\u001B[43m,\u001B[49m\n\u001B[0;32m     13\u001B[0m \u001B[43m  \u001B[49m\u001B[43mmax_tree_size\u001B[49m\u001B[38;5;241;43m=\u001B[39;49m\u001B[38;5;241;43m31\u001B[39;49m\u001B[43m,\u001B[49m\n\u001B[0;32m     14\u001B[0m \u001B[43m  \u001B[49m\u001B[43mn_jobs\u001B[49m\u001B[38;5;241;43m=\u001B[39;49m\u001B[38;5;241;43m8\u001B[39;49m\u001B[43m,\u001B[49m\n\u001B[0;32m     15\u001B[0m \u001B[43m  \u001B[49m\u001B[43mverbose\u001B[49m\u001B[38;5;241;43m=\u001B[39;49m\u001B[38;5;28;43;01mTrue\u001B[39;49;00m\u001B[43m)\u001B[49m\n",
      "File \u001B[1;32m~\\Documents\\TUDelft\\Y4Q4\\lunarlanding\\genepro\\evo.py:127\u001B[0m, in \u001B[0;36mEvolution.__init__\u001B[1;34m(self, fitness_function, internal_nodes, leaf_nodes, n_trees, pop_size, init_max_depth, max_tree_size, crossovers, mutations, coeff_opts, selection, max_evals, max_gens, max_time, n_jobs, verbose)\u001B[0m\n\u001B[0;32m    125\u001B[0m k \u001B[38;5;241m=\u001B[39m \u001B[38;5;241m0\u001B[39m\n\u001B[0;32m    126\u001B[0m \u001B[38;5;28;01mfor\u001B[39;00m i \u001B[38;5;129;01min\u001B[39;00m \u001B[38;5;28mrange\u001B[39m(\u001B[38;5;241m50\u001B[39m):\n\u001B[1;32m--> 127\u001B[0m     k \u001B[38;5;241m+\u001B[39m\u001B[38;5;241m=\u001B[39m np\u001B[38;5;241m.\u001B[39mpower(np\u001B[38;5;241m.\u001B[39me, \u001B[38;5;241m-\u001B[39mi\u001B[38;5;241m*\u001B[39m\u001B[43mcoeff_opts\u001B[49m\u001B[43m[\u001B[49m\u001B[38;5;241;43m0\u001B[39;49m\u001B[43m]\u001B[49m\u001B[43m[\u001B[49m\u001B[38;5;124;43m\"\u001B[39;49m\u001B[38;5;124;43mk\u001B[39;49m\u001B[38;5;124;43m\"\u001B[39;49m\u001B[43m]\u001B[49m)\n\u001B[0;32m    128\u001B[0m k \u001B[38;5;241m=\u001B[39m \u001B[38;5;241m12.5\u001B[39m\u001B[38;5;241m/\u001B[39mk\n\u001B[0;32m    129\u001B[0m coeff_opts \u001B[38;5;241m=\u001B[39m [{\n\u001B[0;32m    130\u001B[0m     \u001B[38;5;124m\"\u001B[39m\u001B[38;5;124mfun\u001B[39m\u001B[38;5;124m\"\u001B[39m: coeff_mutation,\n\u001B[0;32m    131\u001B[0m     \u001B[38;5;124m\"\u001B[39m\u001B[38;5;124mrate\u001B[39m\u001B[38;5;124m\"\u001B[39m: coeff_opts[\u001B[38;5;241m0\u001B[39m][\u001B[38;5;124m\"\u001B[39m\u001B[38;5;124mrate\u001B[39m\u001B[38;5;124m\"\u001B[39m],\n\u001B[1;32m   (...)\u001B[0m\n\u001B[0;32m    136\u001B[0m     }\n\u001B[0;32m    137\u001B[0m }]\n",
      "\u001B[1;31mKeyError\u001B[0m: 'k'"
     ]
    }
   ],
   "execution_count": 36
  },
  {
   "metadata": {},
   "cell_type": "markdown",
   "source": [
    "## Evolve\n",
    "Running this cell will use all the settings above as parameters"
   ]
  },
  {
   "metadata": {},
   "cell_type": "code",
   "outputs": [],
   "execution_count": null,
   "source": [
    "best_fitnesses_across_gens = evo.evolve(is_multiobjective=False)\n",
    "\n",
    "# TODO: Should we account for the range difference between the two objectives? (diversity is in the range of 10s to 20s)"
   ]
  },
  {
   "metadata": {},
   "cell_type": "code",
   "outputs": [],
   "execution_count": null,
   "source": [
    "# Print best fitnesses across generations\n",
    "print(best_fitnesses_across_gens)"
   ]
  },
  {
   "metadata": {},
   "cell_type": "markdown",
   "source": "# Test"
  },
  {
   "metadata": {
    "ExecuteTime": {
     "end_time": "2025-06-08T10:13:19.670692Z",
     "start_time": "2025-06-08T10:13:19.627670Z"
    }
   },
   "cell_type": "code",
   "source": [
    "def get_test_score(tree, has_wind=True):\n",
    "    rewards = []\n",
    "\n",
    "    for i in range(10):\n",
    "      # define a new environment with or without wind\n",
    "      if has_wind: \n",
    "        env = gym.make(\"LunarLander-v3\", render_mode=\"rgb_array\",\n",
    "                        enable_wind=True,\n",
    "                        wind_power=np.random.uniform(0.0, 2.0), # TODO: Update the parameters for wind if necessary\n",
    "                        turbulence_power=np.random.uniform(0.0, 1.0)) # TODO: Update the parameters for turbulence if necessary\n",
    "      else:\n",
    "        env = gym.make(\"LunarLander-v3\", render_mode=\"rgb_array\")\n",
    "\n",
    "      observation = env.reset(seed=i)\n",
    "      observation = observation[0]\n",
    "\n",
    "      for _ in range(500):    \n",
    "        # build up the input sample for GP\n",
    "        input_sample = torch.from_numpy(observation.reshape((1,-1))).float()\n",
    "        \n",
    "        # TODO: Again, define the action\n",
    "        '''Selin's idea of an action is added below'''\n",
    "        # get output (squeezing because it is encapsulated in an array)\n",
    "        output = tree.get_output_pt(input_sample)\n",
    "        action = torch.argmax(output, dim=1) # Select the action with the highest score\n",
    "        \n",
    "        observation, reward, terminated, truncated, info = env.step(action.item())\n",
    "        rewards.append(reward)\n",
    "        output_sample = torch.from_numpy(observation.reshape((1,-1))).float()\n",
    "        if (terminated or truncated):\n",
    "            break\n",
    "\n",
    "    fitness = np.sum(rewards)\n",
    "    \n",
    "    return fitness\n",
    "\n",
    "best = evo.best_of_gens[-1]\n",
    "\n",
    "print(best.get_readable_repr())\n",
    "print(get_test_score(best))"
   ],
   "outputs": [
    {
     "ename": "NameError",
     "evalue": "name 'evo' is not defined",
     "output_type": "error",
     "traceback": [
      "\u001B[1;31m---------------------------------------------------------------------------\u001B[0m",
      "\u001B[1;31mNameError\u001B[0m                                 Traceback (most recent call last)",
      "Cell \u001B[1;32mIn[39], line 37\u001B[0m\n\u001B[0;32m     33\u001B[0m     fitness \u001B[38;5;241m=\u001B[39m np\u001B[38;5;241m.\u001B[39msum(rewards)\n\u001B[0;32m     35\u001B[0m     \u001B[38;5;28;01mreturn\u001B[39;00m fitness\n\u001B[1;32m---> 37\u001B[0m best \u001B[38;5;241m=\u001B[39m \u001B[43mevo\u001B[49m\u001B[38;5;241m.\u001B[39mbest_of_gens[\u001B[38;5;241m-\u001B[39m\u001B[38;5;241m1\u001B[39m]\n\u001B[0;32m     39\u001B[0m \u001B[38;5;28mprint\u001B[39m(best\u001B[38;5;241m.\u001B[39mget_readable_repr())\n\u001B[0;32m     40\u001B[0m \u001B[38;5;28mprint\u001B[39m(get_test_score(best))\n",
      "\u001B[1;31mNameError\u001B[0m: name 'evo' is not defined"
     ]
    }
   ],
   "execution_count": 39
  },
  {
   "metadata": {},
   "cell_type": "markdown",
   "source": "## Our Experimentation Setup"
  },
  {
   "metadata": {},
   "cell_type": "code",
   "outputs": [],
   "execution_count": null,
   "source": [
    "# Write down ideas for experimentation here!\n",
    "\n",
    "# TEST TYPE 1. Improving the Fitness Function\n",
    "'''\n",
    "Configuring the fitness function\n",
    "TEST 1.1 Single objective: Experiment with different quality metrics for fitness\n",
    "TEST 1.2 Multi-objective: Include diversity as a second metric\n",
    "\n",
    "Required additional arguments for fitness function: has_wind=False, reward_type='sum', is_multiobjective=False\n",
    "where reward_types = ['sum', 'min', 'weighted_sum']\n",
    "\n",
    "Wind Test \n",
    "Adding wind as a variable, and also adding a random wind value at each episode\n",
    "''' "
   ]
  },
  {
   "metadata": {
    "ExecuteTime": {
     "end_time": "2025-06-08T10:13:37.052414Z",
     "start_time": "2025-06-08T10:13:37.033416Z"
    }
   },
   "cell_type": "code",
   "source": [
    "import csv\n",
    "import os\n",
    "\n",
    "def write_results_to_csv(internal_nodes, leaf_nodes,\n",
    "                         pop_size, max_gens, max_tree_size,\n",
    "                         crossover_rate, mutation_rate, coeff_opt_rate, tournament_size,\n",
    "                         best_training, best_test, average_fitness, time_elapsed, num_evals, k = 0.2,\n",
    "                         filename=\"experiment_results_k_wind.csv\"):\n",
    "\n",
    "    # Flatten node types to strings for logging\n",
    "    internal_str = \",\".join(type(node).__name__ for node in internal_nodes)\n",
    "    leaf_str = \",\".join(type(node).__name__ for node in leaf_nodes)\n",
    "\n",
    "    # Build a dictionary of all results/settings\n",
    "    row = {\n",
    "        \"internal_nodes\": internal_str,\n",
    "        \"leaf_nodes\": leaf_str,\n",
    "        \"pop_size\": pop_size,\n",
    "        \"max_gens\": max_gens,\n",
    "        \"max_tree_size\": max_tree_size,\n",
    "        \"crossover_rate\": crossover_rate,\n",
    "        \"mutation_rate\": mutation_rate,\n",
    "        \"coeff_opt_rate\": coeff_opt_rate,\n",
    "        \"k\": k,\n",
    "        \"tournament_size\": tournament_size,\n",
    "        \"best_training\": best_training,\n",
    "        \"best_test\": best_test,\n",
    "        \"average_fitness\": average_fitness,\n",
    "        \"time_elapsed\": time_elapsed,\n",
    "        \"num_evals\": num_evals\n",
    "    }\n",
    "\n",
    "    file_exists = os.path.isfile(filename)\n",
    "    with open(filename, mode=\"a\", newline=\"\") as csvfile:\n",
    "        writer = csv.DictWriter(csvfile, fieldnames=list(row.keys()))\n",
    "        if not file_exists:\n",
    "            writer.writeheader()\n",
    "        writer.writerow(row)"
   ],
   "outputs": [],
   "execution_count": 42
  },
  {
   "metadata": {
    "ExecuteTime": {
     "end_time": "2025-06-08T10:13:28.775398Z",
     "start_time": "2025-06-08T10:13:28.750376Z"
    }
   },
   "cell_type": "code",
   "source": [
    "from genepro.evo import subtree_crossover, subtree_mutation, coeff_mutation, tournament_selection\n",
    "\n",
    "# Hyperparameters in the baseline implementation which will be kept as is\n",
    "num_features = env.observation_space.shape[0]\n",
    "leaf_nodes = [Feature(i) for i in range(num_features)]\n",
    "leaf_nodes = leaf_nodes + [Constant()] # Think about the probability of sampling a coefficient\n",
    "internal_nodes = [Plus(),Minus(),Times(),Div()] # Add your own operators here\n",
    "\n",
    "def main_experimentation_loop(fitness_function_version, internal_nodes, leaf_nodes,\n",
    "                                pop_size=64, max_gens=50, max_tree_size=31, k = 0.25,\n",
    "                                crossover_rate=0.875, mutation_rate=0.025, coeff_opt_rate=0.1, tournament_size=8,\n",
    "                                is_multiobjective=False):\n",
    "    \n",
    "    # Define the best-performing hyperparameters\n",
    "    crossovers = [{\"fun\": subtree_crossover, \"rate\": crossover_rate}]\n",
    "    mutations = [{\"fun\": subtree_mutation, \"rate\": mutation_rate}]\n",
    "    coeff_opts = [{\"fun\": coeff_mutation, \"rate\": coeff_opt_rate, \"k\": k}]\n",
    "    selection = {\"fun\": tournament_selection, \"kwargs\": {\"tournament_size\": tournament_size}}\n",
    "            \n",
    "    # Initialize an evolution setup with the correct fitness function\n",
    "    evo = Evolution(\n",
    "            fitness_function_version, \n",
    "            internal_nodes, \n",
    "            leaf_nodes,\n",
    "            n_trees=4, # Number of trees in multitree is fixed to 4\n",
    "            # resource settings\n",
    "            pop_size=pop_size,\n",
    "            max_gens=max_gens,\n",
    "            max_tree_size=max_tree_size,\n",
    "            # hyperparameter settings\n",
    "            crossovers=crossovers,\n",
    "            mutations=mutations,\n",
    "            coeff_opts=coeff_opts,\n",
    "            selection=selection,\n",
    "            n_jobs=8, # Number of jobs is fixed to 8 (used for parallel computing)\n",
    "            verbose=True)\n",
    "    \n",
    "    # Run the training loop for this evolution setup and get the fitnesses of the best individuals across generations\n",
    "    best_fitnesses_training, average_fitness, time_elapsed, num_evals = evo.evolve(is_multiobjective=is_multiobjective)\n",
    "\n",
    "    # Now, run the testing loop for this evolution setup and get the fitnesses of the best individuals across generations\n",
    "    # Extract best-of-generation trees\n",
    "    best_individuals = evo.best_of_gens\n",
    "\n",
    "    # Collect test scores for each best individual across generations\n",
    "    best_fitnesses_test = [\n",
    "        get_test_score(ind) for ind in best_individuals\n",
    "    ]\n",
    "\n",
    "    # Collect the average test score across the final population\n",
    "    final_population = evo.population\n",
    "    final_population_test_scores = [\n",
    "        get_test_score(ind) for ind in final_population\n",
    "    ]\n",
    "    average_fitness_test = np.mean(final_population_test_scores)\n",
    "\n",
    "    return best_fitnesses_training, best_fitnesses_test, average_fitness, average_fitness_test, time_elapsed, num_evals"
   ],
   "outputs": [],
   "execution_count": 41
  },
  {
   "metadata": {
    "ExecuteTime": {
     "end_time": "2025-06-08T12:40:53.940844Z",
     "start_time": "2025-06-08T10:27:08.584723Z"
    }
   },
   "cell_type": "code",
   "source": [
    "# BASELINE TEST. Hyperparameter Testing\n",
    "\n",
    "from itertools import product\n",
    "import time\n",
    "\n",
    "def hyperparameter_testing(max_gens=30):\n",
    "    crossover_rates = [0.875]\n",
    "    mutation_rates  = [0.025]\n",
    "    coeff_opt_rates = [0.1] # Coefficient mutation rate will be further optimized with improvements\n",
    "    tournament_sizes = [8]\n",
    "    k_opts = [0.01, 0.15]\n",
    "\n",
    "    total_runs = len(crossover_rates) * len(mutation_rates) * len(coeff_opt_rates) * len(tournament_sizes) * len(k_opts)\n",
    "    run_idx = 1\n",
    "\n",
    "    baseline_fitness_function = make_fitness_function_pt(reduction=\"sum\", has_wind=True) # Test against the baseline fitness function: sum of rewards\n",
    "\n",
    "    for (cr, mr, cor, ts, k) in product(crossover_rates, mutation_rates, coeff_opt_rates, tournament_sizes, k_opts):\n",
    "        print(f\"\\n=== Run {run_idx}/{total_runs} | CR={cr} MR={mr} CoeffR={cor} TS={ts} K={k} ===\")\n",
    "        run_idx += 1\n",
    "        for i in range(3):\n",
    "\n",
    "            try:\n",
    "                best_training, best_test, average_fitness, average_fitness_test, time_elapsed, num_evals = main_experimentation_loop(\n",
    "                    fitness_function_version=baseline_fitness_function,\n",
    "                    internal_nodes=internal_nodes,\n",
    "                    leaf_nodes=leaf_nodes,\n",
    "                    crossover_rate=cr,\n",
    "                    mutation_rate=mr,\n",
    "                    max_gens=max_gens,\n",
    "                    k = k,\n",
    "                    coeff_opt_rate=cor,\n",
    "                    tournament_size=ts,\n",
    "                )\n",
    "\n",
    "                write_results_to_csv(\n",
    "                    internal_nodes=internal_nodes,\n",
    "                    leaf_nodes=leaf_nodes,\n",
    "                    pop_size=64,\n",
    "                    max_gens=30,\n",
    "                    max_tree_size=31,\n",
    "                    crossover_rate=cr,\n",
    "                    mutation_rate=mr,\n",
    "                    coeff_opt_rate=cor,\n",
    "                    k = k,\n",
    "                    tournament_size=ts,\n",
    "                    best_training=best_training,\n",
    "                    best_test=best_test,\n",
    "                    average_fitness=average_fitness,\n",
    "                    time_elapsed=time_elapsed,\n",
    "                    num_evals=num_evals\n",
    "                )\n",
    "\n",
    "            except Exception as e:\n",
    "                print(f\"Error in configuration CR={cr}, MR={mr}, CoeffR={cor}, TS={ts}: {e}\")\n",
    "                continue\n",
    "\n",
    "hyperparameter_testing(max_gens=50)"
   ],
   "outputs": [
    {
     "name": "stdout",
     "output_type": "stream",
     "text": [
      "\n",
      "=== Run 1/2 | CR=0.875 MR=0.025 CoeffR=0.1 TS=8 K=0.01 ===\n",
      "gen: 1, best of gen fitness: -415.262,\tbest of gen size: 27\n",
      "gen: 2, best of gen fitness: -288.699,\tbest of gen size: 29\n",
      "gen: 3, best of gen fitness: -440.648,\tbest of gen size: 23\n",
      "gen: 4, best of gen fitness: -377.328,\tbest of gen size: 27\n",
      "gen: 5, best of gen fitness: -385.832,\tbest of gen size: 23\n",
      "gen: 6, best of gen fitness: -414.915,\tbest of gen size: 23\n",
      "gen: 7, best of gen fitness: -398.023,\tbest of gen size: 29\n",
      "gen: 8, best of gen fitness: -433.010,\tbest of gen size: 23\n",
      "gen: 9, best of gen fitness: -393.631,\tbest of gen size: 29\n",
      "gen: 10, best of gen fitness: -420.174,\tbest of gen size: 23\n",
      "gen: 11, best of gen fitness: -388.643,\tbest of gen size: 29\n",
      "gen: 12, best of gen fitness: -384.328,\tbest of gen size: 23\n",
      "gen: 13, best of gen fitness: -283.651,\tbest of gen size: 23\n",
      "gen: 14, best of gen fitness: -247.802,\tbest of gen size: 23\n",
      "gen: 15, best of gen fitness: -356.425,\tbest of gen size: 29\n",
      "gen: 16, best of gen fitness: -260.420,\tbest of gen size: 23\n",
      "gen: 17, best of gen fitness: -286.004,\tbest of gen size: 31\n",
      "gen: 18, best of gen fitness: -294.976,\tbest of gen size: 21\n",
      "gen: 19, best of gen fitness: -340.530,\tbest of gen size: 29\n",
      "gen: 20, best of gen fitness: -314.100,\tbest of gen size: 23\n",
      "gen: 21, best of gen fitness: -336.134,\tbest of gen size: 29\n",
      "gen: 22, best of gen fitness: -282.130,\tbest of gen size: 31\n",
      "gen: 23, best of gen fitness: -322.065,\tbest of gen size: 31\n",
      "gen: 24, best of gen fitness: -328.590,\tbest of gen size: 31\n",
      "gen: 25, best of gen fitness: -264.007,\tbest of gen size: 31\n",
      "gen: 26, best of gen fitness: -313.941,\tbest of gen size: 31\n",
      "gen: 27, best of gen fitness: -325.216,\tbest of gen size: 31\n",
      "gen: 28, best of gen fitness: -268.895,\tbest of gen size: 31\n",
      "gen: 29, best of gen fitness: -310.340,\tbest of gen size: 31\n",
      "gen: 30, best of gen fitness: -318.667,\tbest of gen size: 31\n",
      "gen: 31, best of gen fitness: -339.306,\tbest of gen size: 29\n",
      "gen: 32, best of gen fitness: -302.770,\tbest of gen size: 31\n",
      "gen: 33, best of gen fitness: -248.517,\tbest of gen size: 31\n",
      "gen: 34, best of gen fitness: -309.467,\tbest of gen size: 31\n",
      "gen: 35, best of gen fitness: -282.022,\tbest of gen size: 31\n",
      "gen: 36, best of gen fitness: -231.318,\tbest of gen size: 31\n",
      "gen: 37, best of gen fitness: -314.540,\tbest of gen size: 29\n",
      "gen: 38, best of gen fitness: -297.920,\tbest of gen size: 31\n",
      "gen: 39, best of gen fitness: -303.514,\tbest of gen size: 29\n",
      "gen: 40, best of gen fitness: -298.441,\tbest of gen size: 29\n",
      "gen: 41, best of gen fitness: -286.345,\tbest of gen size: 31\n",
      "gen: 42, best of gen fitness: -308.703,\tbest of gen size: 23\n",
      "gen: 43, best of gen fitness: -292.805,\tbest of gen size: 31\n",
      "gen: 44, best of gen fitness: -347.438,\tbest of gen size: 31\n",
      "gen: 45, best of gen fitness: -223.027,\tbest of gen size: 31\n",
      "gen: 46, best of gen fitness: -310.447,\tbest of gen size: 31\n",
      "gen: 47, best of gen fitness: -296.118,\tbest of gen size: 23\n",
      "gen: 48, best of gen fitness: -277.000,\tbest of gen size: 31\n",
      "gen: 49, best of gen fitness: -228.497,\tbest of gen size: 19\n",
      "gen: 50, best of gen fitness: -266.264,\tbest of gen size: 31\n",
      "gen: 1, best of gen fitness: -472.200,\tbest of gen size: 29\n",
      "gen: 2, best of gen fitness: -413.781,\tbest of gen size: 27\n",
      "gen: 3, best of gen fitness: -384.643,\tbest of gen size: 29\n",
      "gen: 4, best of gen fitness: -411.070,\tbest of gen size: 29\n",
      "gen: 5, best of gen fitness: -442.164,\tbest of gen size: 29\n",
      "gen: 6, best of gen fitness: -440.312,\tbest of gen size: 23\n",
      "gen: 7, best of gen fitness: -261.489,\tbest of gen size: 31\n",
      "gen: 8, best of gen fitness: -97.862,\tbest of gen size: 31\n",
      "gen: 9, best of gen fitness: -63.348,\tbest of gen size: 31\n",
      "gen: 10, best of gen fitness: -23.532,\tbest of gen size: 31\n",
      "gen: 11, best of gen fitness: -88.298,\tbest of gen size: 31\n",
      "gen: 12, best of gen fitness: -137.879,\tbest of gen size: 31\n",
      "gen: 13, best of gen fitness: -24.455,\tbest of gen size: 31\n",
      "gen: 14, best of gen fitness: -85.045,\tbest of gen size: 31\n",
      "gen: 15, best of gen fitness: -9.999,\tbest of gen size: 31\n",
      "gen: 16, best of gen fitness: -91.867,\tbest of gen size: 31\n",
      "gen: 17, best of gen fitness: -21.921,\tbest of gen size: 25\n",
      "gen: 18, best of gen fitness: -57.401,\tbest of gen size: 17\n",
      "gen: 19, best of gen fitness: 149.019,\tbest of gen size: 25\n",
      "gen: 20, best of gen fitness: -85.478,\tbest of gen size: 25\n",
      "gen: 21, best of gen fitness: -0.700,\tbest of gen size: 25\n",
      "gen: 22, best of gen fitness: -104.405,\tbest of gen size: 31\n",
      "gen: 23, best of gen fitness: -26.080,\tbest of gen size: 31\n",
      "gen: 24, best of gen fitness: -119.249,\tbest of gen size: 21\n",
      "gen: 25, best of gen fitness: 36.353,\tbest of gen size: 31\n",
      "gen: 26, best of gen fitness: -135.189,\tbest of gen size: 31\n",
      "gen: 27, best of gen fitness: -79.551,\tbest of gen size: 31\n",
      "gen: 28, best of gen fitness: -63.847,\tbest of gen size: 31\n",
      "gen: 29, best of gen fitness: -100.135,\tbest of gen size: 31\n",
      "gen: 30, best of gen fitness: -52.636,\tbest of gen size: 31\n",
      "gen: 31, best of gen fitness: -114.867,\tbest of gen size: 31\n",
      "gen: 32, best of gen fitness: -71.038,\tbest of gen size: 27\n",
      "gen: 33, best of gen fitness: -39.967,\tbest of gen size: 31\n",
      "gen: 34, best of gen fitness: 34.602,\tbest of gen size: 31\n",
      "gen: 35, best of gen fitness: -31.989,\tbest of gen size: 31\n",
      "gen: 36, best of gen fitness: -11.801,\tbest of gen size: 31\n",
      "gen: 37, best of gen fitness: 108.845,\tbest of gen size: 27\n",
      "gen: 38, best of gen fitness: 12.617,\tbest of gen size: 31\n",
      "gen: 39, best of gen fitness: -11.631,\tbest of gen size: 25\n",
      "gen: 40, best of gen fitness: 261.170,\tbest of gen size: 31\n",
      "gen: 41, best of gen fitness: 43.416,\tbest of gen size: 25\n",
      "gen: 42, best of gen fitness: -35.325,\tbest of gen size: 25\n",
      "gen: 43, best of gen fitness: -49.960,\tbest of gen size: 25\n",
      "gen: 44, best of gen fitness: -26.571,\tbest of gen size: 31\n",
      "gen: 45, best of gen fitness: -39.188,\tbest of gen size: 31\n",
      "gen: 46, best of gen fitness: 49.720,\tbest of gen size: 31\n",
      "gen: 47, best of gen fitness: -25.757,\tbest of gen size: 31\n",
      "gen: 48, best of gen fitness: 50.359,\tbest of gen size: 31\n",
      "gen: 49, best of gen fitness: 50.269,\tbest of gen size: 31\n",
      "gen: 50, best of gen fitness: 12.402,\tbest of gen size: 31\n",
      "gen: 1, best of gen fitness: -481.101,\tbest of gen size: 25\n",
      "gen: 2, best of gen fitness: -132.710,\tbest of gen size: 25\n",
      "gen: 3, best of gen fitness: -377.170,\tbest of gen size: 25\n",
      "gen: 4, best of gen fitness: -261.838,\tbest of gen size: 29\n",
      "gen: 5, best of gen fitness: -342.059,\tbest of gen size: 29\n",
      "gen: 6, best of gen fitness: -284.175,\tbest of gen size: 29\n",
      "gen: 7, best of gen fitness: -107.083,\tbest of gen size: 29\n",
      "gen: 8, best of gen fitness: -124.606,\tbest of gen size: 27\n",
      "gen: 9, best of gen fitness: -147.390,\tbest of gen size: 27\n",
      "gen: 10, best of gen fitness: 51.194,\tbest of gen size: 27\n",
      "gen: 11, best of gen fitness: 11.902,\tbest of gen size: 27\n",
      "gen: 12, best of gen fitness: 79.494,\tbest of gen size: 27\n",
      "gen: 13, best of gen fitness: 94.484,\tbest of gen size: 25\n",
      "gen: 14, best of gen fitness: 129.944,\tbest of gen size: 27\n",
      "gen: 15, best of gen fitness: 94.558,\tbest of gen size: 27\n",
      "gen: 16, best of gen fitness: 260.754,\tbest of gen size: 25\n",
      "gen: 17, best of gen fitness: 233.000,\tbest of gen size: 27\n",
      "gen: 18, best of gen fitness: 656.939,\tbest of gen size: 25\n",
      "gen: 19, best of gen fitness: 363.775,\tbest of gen size: 25\n",
      "gen: 20, best of gen fitness: 381.785,\tbest of gen size: 23\n",
      "gen: 21, best of gen fitness: 475.084,\tbest of gen size: 31\n",
      "gen: 22, best of gen fitness: 369.398,\tbest of gen size: 25\n",
      "gen: 23, best of gen fitness: 441.588,\tbest of gen size: 31\n",
      "gen: 24, best of gen fitness: 251.517,\tbest of gen size: 31\n",
      "gen: 25, best of gen fitness: 551.918,\tbest of gen size: 31\n",
      "gen: 26, best of gen fitness: 432.909,\tbest of gen size: 31\n",
      "gen: 27, best of gen fitness: 475.306,\tbest of gen size: 31\n",
      "gen: 28, best of gen fitness: 510.019,\tbest of gen size: 31\n",
      "gen: 29, best of gen fitness: 404.847,\tbest of gen size: 29\n",
      "gen: 30, best of gen fitness: 410.490,\tbest of gen size: 29\n",
      "gen: 31, best of gen fitness: 558.046,\tbest of gen size: 29\n",
      "gen: 32, best of gen fitness: 453.758,\tbest of gen size: 29\n",
      "gen: 33, best of gen fitness: 544.972,\tbest of gen size: 29\n",
      "gen: 34, best of gen fitness: 404.863,\tbest of gen size: 27\n",
      "gen: 35, best of gen fitness: 537.371,\tbest of gen size: 29\n",
      "gen: 36, best of gen fitness: 436.301,\tbest of gen size: 29\n",
      "gen: 37, best of gen fitness: 453.088,\tbest of gen size: 31\n",
      "gen: 38, best of gen fitness: 321.869,\tbest of gen size: 29\n",
      "gen: 39, best of gen fitness: 409.418,\tbest of gen size: 29\n",
      "gen: 40, best of gen fitness: 531.951,\tbest of gen size: 27\n",
      "gen: 41, best of gen fitness: 676.273,\tbest of gen size: 29\n",
      "gen: 42, best of gen fitness: 650.935,\tbest of gen size: 29\n",
      "gen: 43, best of gen fitness: 506.744,\tbest of gen size: 29\n",
      "gen: 44, best of gen fitness: 516.910,\tbest of gen size: 29\n",
      "gen: 45, best of gen fitness: 454.727,\tbest of gen size: 29\n",
      "gen: 46, best of gen fitness: 717.433,\tbest of gen size: 29\n",
      "gen: 47, best of gen fitness: 897.894,\tbest of gen size: 29\n",
      "gen: 48, best of gen fitness: 644.055,\tbest of gen size: 29\n",
      "gen: 49, best of gen fitness: 408.271,\tbest of gen size: 27\n",
      "gen: 50, best of gen fitness: 594.424,\tbest of gen size: 27\n",
      "\n",
      "=== Run 2/2 | CR=0.875 MR=0.025 CoeffR=0.1 TS=8 K=0.15 ===\n",
      "gen: 1, best of gen fitness: -392.813,\tbest of gen size: 25\n",
      "gen: 2, best of gen fitness: -439.403,\tbest of gen size: 21\n",
      "gen: 3, best of gen fitness: -316.992,\tbest of gen size: 31\n",
      "gen: 4, best of gen fitness: -284.024,\tbest of gen size: 31\n",
      "gen: 5, best of gen fitness: -272.178,\tbest of gen size: 31\n",
      "gen: 6, best of gen fitness: -211.481,\tbest of gen size: 31\n",
      "gen: 7, best of gen fitness: -184.536,\tbest of gen size: 31\n",
      "gen: 8, best of gen fitness: -64.940,\tbest of gen size: 31\n",
      "gen: 9, best of gen fitness: -208.466,\tbest of gen size: 31\n",
      "gen: 10, best of gen fitness: -88.666,\tbest of gen size: 31\n",
      "gen: 11, best of gen fitness: -67.625,\tbest of gen size: 31\n",
      "gen: 12, best of gen fitness: -169.426,\tbest of gen size: 31\n",
      "gen: 13, best of gen fitness: -120.140,\tbest of gen size: 31\n",
      "gen: 14, best of gen fitness: -206.739,\tbest of gen size: 31\n",
      "gen: 15, best of gen fitness: -102.239,\tbest of gen size: 31\n",
      "gen: 16, best of gen fitness: -117.947,\tbest of gen size: 31\n",
      "gen: 17, best of gen fitness: -110.569,\tbest of gen size: 31\n",
      "gen: 18, best of gen fitness: -132.088,\tbest of gen size: 31\n",
      "gen: 19, best of gen fitness: -130.554,\tbest of gen size: 31\n",
      "gen: 20, best of gen fitness: -110.233,\tbest of gen size: 23\n",
      "gen: 21, best of gen fitness: -52.535,\tbest of gen size: 23\n",
      "gen: 22, best of gen fitness: -33.037,\tbest of gen size: 23\n",
      "gen: 23, best of gen fitness: -92.270,\tbest of gen size: 25\n",
      "gen: 24, best of gen fitness: -68.854,\tbest of gen size: 29\n",
      "gen: 25, best of gen fitness: -89.795,\tbest of gen size: 29\n",
      "gen: 26, best of gen fitness: -91.822,\tbest of gen size: 25\n",
      "gen: 27, best of gen fitness: -58.720,\tbest of gen size: 23\n",
      "gen: 28, best of gen fitness: 23.988,\tbest of gen size: 29\n",
      "gen: 29, best of gen fitness: -56.461,\tbest of gen size: 23\n",
      "gen: 30, best of gen fitness: -22.878,\tbest of gen size: 27\n",
      "gen: 31, best of gen fitness: 178.398,\tbest of gen size: 29\n",
      "gen: 32, best of gen fitness: 27.548,\tbest of gen size: 23\n",
      "gen: 33, best of gen fitness: -37.539,\tbest of gen size: 25\n",
      "gen: 34, best of gen fitness: -15.359,\tbest of gen size: 23\n",
      "gen: 35, best of gen fitness: -27.074,\tbest of gen size: 17\n",
      "gen: 36, best of gen fitness: 10.488,\tbest of gen size: 23\n",
      "gen: 37, best of gen fitness: 243.689,\tbest of gen size: 29\n",
      "gen: 38, best of gen fitness: 378.996,\tbest of gen size: 29\n",
      "gen: 39, best of gen fitness: -27.309,\tbest of gen size: 29\n",
      "gen: 40, best of gen fitness: 95.455,\tbest of gen size: 29\n",
      "gen: 41, best of gen fitness: 256.357,\tbest of gen size: 29\n",
      "gen: 42, best of gen fitness: -42.907,\tbest of gen size: 29\n",
      "gen: 43, best of gen fitness: 58.762,\tbest of gen size: 29\n",
      "gen: 44, best of gen fitness: 125.612,\tbest of gen size: 29\n",
      "gen: 45, best of gen fitness: 89.296,\tbest of gen size: 29\n",
      "gen: 46, best of gen fitness: -18.619,\tbest of gen size: 29\n",
      "gen: 47, best of gen fitness: 91.243,\tbest of gen size: 31\n",
      "gen: 48, best of gen fitness: 105.830,\tbest of gen size: 31\n",
      "gen: 49, best of gen fitness: 109.407,\tbest of gen size: 31\n",
      "gen: 50, best of gen fitness: 144.950,\tbest of gen size: 29\n",
      "gen: 1, best of gen fitness: -198.050,\tbest of gen size: 25\n",
      "gen: 2, best of gen fitness: -180.925,\tbest of gen size: 25\n",
      "gen: 3, best of gen fitness: -139.452,\tbest of gen size: 25\n",
      "gen: 4, best of gen fitness: -157.330,\tbest of gen size: 25\n",
      "gen: 5, best of gen fitness: -110.482,\tbest of gen size: 25\n",
      "gen: 6, best of gen fitness: -108.120,\tbest of gen size: 31\n",
      "gen: 7, best of gen fitness: -163.939,\tbest of gen size: 31\n",
      "gen: 8, best of gen fitness: -146.190,\tbest of gen size: 25\n",
      "gen: 9, best of gen fitness: -145.839,\tbest of gen size: 31\n",
      "gen: 10, best of gen fitness: -112.596,\tbest of gen size: 31\n",
      "gen: 11, best of gen fitness: -33.608,\tbest of gen size: 25\n",
      "gen: 12, best of gen fitness: -152.597,\tbest of gen size: 25\n",
      "gen: 13, best of gen fitness: -146.552,\tbest of gen size: 29\n",
      "gen: 14, best of gen fitness: -68.939,\tbest of gen size: 25\n",
      "gen: 15, best of gen fitness: -55.149,\tbest of gen size: 31\n",
      "gen: 16, best of gen fitness: -61.301,\tbest of gen size: 31\n",
      "gen: 17, best of gen fitness: -23.453,\tbest of gen size: 25\n",
      "gen: 18, best of gen fitness: -143.715,\tbest of gen size: 31\n",
      "gen: 19, best of gen fitness: -118.367,\tbest of gen size: 31\n",
      "gen: 20, best of gen fitness: -123.139,\tbest of gen size: 31\n",
      "gen: 21, best of gen fitness: -83.669,\tbest of gen size: 31\n",
      "gen: 22, best of gen fitness: -95.687,\tbest of gen size: 31\n",
      "gen: 23, best of gen fitness: -106.412,\tbest of gen size: 29\n",
      "gen: 24, best of gen fitness: -88.992,\tbest of gen size: 31\n",
      "gen: 25, best of gen fitness: -91.880,\tbest of gen size: 31\n",
      "gen: 26, best of gen fitness: -93.886,\tbest of gen size: 31\n",
      "gen: 27, best of gen fitness: -108.383,\tbest of gen size: 31\n",
      "gen: 28, best of gen fitness: -91.132,\tbest of gen size: 31\n",
      "gen: 29, best of gen fitness: -99.541,\tbest of gen size: 27\n",
      "gen: 30, best of gen fitness: 125.156,\tbest of gen size: 27\n",
      "gen: 31, best of gen fitness: -87.276,\tbest of gen size: 27\n",
      "gen: 32, best of gen fitness: 426.570,\tbest of gen size: 27\n",
      "gen: 33, best of gen fitness: 255.814,\tbest of gen size: 29\n",
      "gen: 34, best of gen fitness: 82.190,\tbest of gen size: 27\n",
      "gen: 35, best of gen fitness: 86.822,\tbest of gen size: 27\n",
      "gen: 36, best of gen fitness: 274.328,\tbest of gen size: 27\n",
      "gen: 37, best of gen fitness: 240.368,\tbest of gen size: 27\n",
      "gen: 38, best of gen fitness: 289.879,\tbest of gen size: 27\n",
      "gen: 39, best of gen fitness: 596.251,\tbest of gen size: 27\n",
      "gen: 40, best of gen fitness: 470.951,\tbest of gen size: 25\n",
      "gen: 41, best of gen fitness: 540.535,\tbest of gen size: 25\n",
      "gen: 42, best of gen fitness: 382.202,\tbest of gen size: 27\n",
      "gen: 43, best of gen fitness: 546.032,\tbest of gen size: 25\n",
      "gen: 44, best of gen fitness: 491.935,\tbest of gen size: 25\n",
      "gen: 45, best of gen fitness: 512.785,\tbest of gen size: 25\n",
      "gen: 46, best of gen fitness: 652.587,\tbest of gen size: 15\n",
      "gen: 47, best of gen fitness: 509.659,\tbest of gen size: 15\n",
      "gen: 48, best of gen fitness: 447.721,\tbest of gen size: 27\n",
      "gen: 49, best of gen fitness: 693.482,\tbest of gen size: 15\n",
      "gen: 50, best of gen fitness: 671.078,\tbest of gen size: 15\n",
      "gen: 1, best of gen fitness: -455.637,\tbest of gen size: 23\n",
      "gen: 2, best of gen fitness: -381.317,\tbest of gen size: 29\n",
      "gen: 3, best of gen fitness: -370.685,\tbest of gen size: 29\n",
      "gen: 4, best of gen fitness: -393.003,\tbest of gen size: 29\n",
      "gen: 5, best of gen fitness: -359.288,\tbest of gen size: 29\n",
      "gen: 6, best of gen fitness: -364.976,\tbest of gen size: 27\n",
      "gen: 7, best of gen fitness: -330.924,\tbest of gen size: 31\n",
      "gen: 8, best of gen fitness: -452.830,\tbest of gen size: 29\n",
      "gen: 9, best of gen fitness: -449.163,\tbest of gen size: 27\n",
      "gen: 10, best of gen fitness: -360.069,\tbest of gen size: 31\n",
      "gen: 11, best of gen fitness: -332.888,\tbest of gen size: 29\n",
      "gen: 12, best of gen fitness: -278.767,\tbest of gen size: 31\n",
      "gen: 13, best of gen fitness: -193.292,\tbest of gen size: 31\n",
      "gen: 14, best of gen fitness: -302.358,\tbest of gen size: 31\n",
      "gen: 15, best of gen fitness: -291.396,\tbest of gen size: 31\n",
      "gen: 16, best of gen fitness: -349.292,\tbest of gen size: 31\n",
      "gen: 17, best of gen fitness: -390.639,\tbest of gen size: 31\n",
      "gen: 18, best of gen fitness: -373.383,\tbest of gen size: 31\n",
      "gen: 19, best of gen fitness: -331.698,\tbest of gen size: 31\n",
      "gen: 20, best of gen fitness: -305.689,\tbest of gen size: 31\n",
      "gen: 21, best of gen fitness: -363.678,\tbest of gen size: 31\n",
      "gen: 22, best of gen fitness: -395.601,\tbest of gen size: 31\n",
      "gen: 23, best of gen fitness: -267.410,\tbest of gen size: 31\n",
      "gen: 24, best of gen fitness: -380.015,\tbest of gen size: 31\n",
      "gen: 25, best of gen fitness: -278.592,\tbest of gen size: 31\n",
      "gen: 26, best of gen fitness: -281.392,\tbest of gen size: 31\n",
      "gen: 27, best of gen fitness: -304.358,\tbest of gen size: 29\n",
      "gen: 28, best of gen fitness: -258.781,\tbest of gen size: 31\n",
      "gen: 29, best of gen fitness: -313.949,\tbest of gen size: 29\n",
      "gen: 30, best of gen fitness: -217.224,\tbest of gen size: 29\n",
      "gen: 31, best of gen fitness: 106.637,\tbest of gen size: 29\n",
      "gen: 32, best of gen fitness: 194.135,\tbest of gen size: 29\n",
      "gen: 33, best of gen fitness: 48.666,\tbest of gen size: 29\n",
      "gen: 34, best of gen fitness: -25.831,\tbest of gen size: 29\n",
      "gen: 35, best of gen fitness: 93.233,\tbest of gen size: 29\n",
      "gen: 36, best of gen fitness: -39.432,\tbest of gen size: 27\n",
      "gen: 37, best of gen fitness: 8.573,\tbest of gen size: 27\n",
      "gen: 38, best of gen fitness: 34.796,\tbest of gen size: 29\n",
      "gen: 39, best of gen fitness: 10.944,\tbest of gen size: 29\n",
      "gen: 40, best of gen fitness: 126.820,\tbest of gen size: 25\n",
      "gen: 41, best of gen fitness: 78.877,\tbest of gen size: 29\n",
      "gen: 42, best of gen fitness: -6.729,\tbest of gen size: 27\n",
      "gen: 43, best of gen fitness: -1.415,\tbest of gen size: 29\n",
      "gen: 44, best of gen fitness: 201.003,\tbest of gen size: 27\n",
      "gen: 45, best of gen fitness: 30.965,\tbest of gen size: 31\n",
      "gen: 46, best of gen fitness: 11.083,\tbest of gen size: 27\n",
      "gen: 47, best of gen fitness: 5.798,\tbest of gen size: 27\n",
      "gen: 48, best of gen fitness: -8.432,\tbest of gen size: 25\n",
      "gen: 49, best of gen fitness: 10.557,\tbest of gen size: 27\n",
      "gen: 50, best of gen fitness: 47.398,\tbest of gen size: 29\n"
     ]
    }
   ],
   "execution_count": 44
  },
  {
   "metadata": {},
   "cell_type": "code",
   "outputs": [],
   "execution_count": null,
   "source": [
    "# TEST TYPE 1. Improving the Fitness Function\n",
    "'''\n",
    "Configuring the fitness function\n",
    "TEST 1.1 Single objective: Experiment with different quality metrics for fitness\n",
    "TEST 1.2 Multi-objective: Include diversity as a second metric\n",
    "\n",
    "Required additional arguments for fitness function: has_wind=False, reward_type='sum', is_multiobjective=False\n",
    "where reward_types = ['sum', 'min', 'weighted_sum']\n",
    "\n",
    "Wind Test \n",
    "Adding wind as a variable, and also adding a random wind value at each episode\n",
    "''' \n",
    "\n",
    "import csv\n",
    "import os\n",
    "\n",
    "def write_results_to_csv_fitness_improvement(internal_nodes, leaf_nodes,\n",
    "                                            has_wind, reward_type,\n",
    "                                            pop_size, max_gens,\n",
    "                                            best_training, best_test, average_fitness, time_elapsed, num_evals):\n",
    "\n",
    "    # Flatten node types to strings for logging\n",
    "    internal_str = \",\".join(type(node).__name__ for node in internal_nodes)\n",
    "    leaf_str = \",\".join(type(node).__name__ for node in leaf_nodes)\n",
    "\n",
    "    # Build a dictionary of all results/settings\n",
    "    row = {\n",
    "        \"internal_nodes\": internal_str,\n",
    "        \"leaf_nodes\": leaf_str,\n",
    "        \"has_wind\": has_wind,\n",
    "        \"reward_type\": reward_type,\n",
    "        \"pop_size\": pop_size,\n",
    "        \"max_gens\": max_gens,\n",
    "        \"best_training\": best_training,\n",
    "        \"best_test\": best_test,\n",
    "        \"average_fitness\": average_fitness,\n",
    "        \"time_elapsed\": time_elapsed,\n",
    "        \"num_evals\": num_evals\n",
    "    }\n",
    "\n",
    "    name = \"fitness_comp_improvement.csv\"\n",
    "    if has_wind:\n",
    "        name = \"fitness_comp_improvement_with_wind.csv\"\n",
    "\n",
    "    os.makedirs(\"improvement_results\", exist_ok=True)\n",
    "    filename = os.path.join(\"improvement_results\", name)\n",
    "    \n",
    "    file_exists = os.path.isfile(filename)\n",
    "    with open(filename, mode=\"a\", newline=\"\") as csvfile:\n",
    "        writer = csv.DictWriter(csvfile, fieldnames=list(row.keys()))\n",
    "        if not file_exists:\n",
    "            writer.writeheader()\n",
    "        writer.writerow(row)\n",
    "\n",
    "\n",
    "def fitness_function_reward_types_exp(max_gens=30, has_wind=False):\n",
    "    reward_types = ['avg', 'min'] # Use average instead of sum for comparison purposes\n",
    "\n",
    "    for _ in range(3): # Run the experiment for 3 times for each reward type (to account for randomness)\n",
    "        for reward_type in reward_types:\n",
    "            fitness_function_version = make_fitness_function_pt(reduction=reward_type, has_wind=has_wind)\n",
    "            print(f\"\\nRunning experiment for reward type: {reward_type}\")\n",
    "            best_training, best_test, average_fitness, average_fitness_test, \\\n",
    "                time_elapsed, num_evals = main_experimentation_loop(fitness_function_version,\n",
    "                                                                    internal_nodes, \n",
    "                                                                    leaf_nodes,\n",
    "                                                                    pop_size=64,\n",
    "                                                                    max_gens=max_gens, \n",
    "                                                                    max_tree_size=31)\n",
    "            print(f\"Best training fitness: {best_training}, Best test fitness: {best_test}, Average fitness: {average_fitness}, Average test fitness: {average_fitness_test}, Time elapsed: {time_elapsed}, Number of evaluations: {num_evals}\")\n",
    "            write_results_to_csv_fitness_improvement(\n",
    "                internal_nodes=internal_nodes,\n",
    "                leaf_nodes=leaf_nodes,\n",
    "                has_wind=has_wind,\n",
    "                reward_type=reward_type,\n",
    "                pop_size=64,\n",
    "                max_gens=max_gens,\n",
    "                best_training=best_training,\n",
    "                best_test=best_test,\n",
    "                average_fitness=average_fitness,\n",
    "                time_elapsed=time_elapsed,\n",
    "                num_evals=num_evals\n",
    "            )\n",
    "        \n",
    "fitness_function_reward_types_exp(max_gens=50, has_wind=True)"
   ]
  },
  {
   "metadata": {},
   "cell_type": "code",
   "outputs": [],
   "execution_count": null,
   "source": [
    "import pandas as pd\n",
    "import numpy as np\n",
    "import matplotlib.pyplot as plt\n",
    "import ast\n",
    "from collections import defaultdict\n",
    "\n",
    "def load_and_average_per_generation(csv_path, plot_type=\"Best\"):\n",
    "    '''\n",
    "    Method for averaging fitness values per generation across different experiment runs\n",
    "    '''\n",
    "    df = pd.read_csv(csv_path)\n",
    "\n",
    "    column_name = 'best_training'\n",
    "    if plot_type == \"Average\":\n",
    "        column_name = 'average_fitness'\n",
    "\n",
    "    df[column_name] = df[column_name].apply(lambda s: eval(s, {\"np\": np}))\n",
    "    df['best_test'] = df['best_test'].apply(lambda s: eval(s, {\"np\": np}))\n",
    "\n",
    "    training_dict = defaultdict(list)  \n",
    "    test_dict = defaultdict(list)     \n",
    "\n",
    "    for _, row in df.iterrows():\n",
    "        training_dict[row['reward_type']].append(row[column_name])\n",
    "        test_dict[row['reward_type']].append(row['best_test'])\n",
    "\n",
    "    # Average across runs for each generation\n",
    "    averaged_training = []\n",
    "    averaged_test = []\n",
    "    reward_types = []\n",
    "\n",
    "    for reward_type in sorted(training_dict.keys()):\n",
    "        reward_types.append(reward_type)\n",
    "\n",
    "        train_runs = np.array(training_dict[reward_type])  \n",
    "        test_runs = np.array(test_dict[reward_type])\n",
    "\n",
    "        avg_train = np.mean(train_runs, axis=0).tolist()\n",
    "        avg_test = np.mean(test_runs, axis=0).tolist()\n",
    "\n",
    "        averaged_training.append(avg_train)\n",
    "        averaged_test.append(avg_test)\n",
    "\n",
    "    return averaged_training, averaged_test, reward_types\n",
    "\n",
    "\n",
    "def plot_fitnesses_reward_types_exp(training_fitnesses, test_fitnesses, reward_types, plot_type=\"Best\", has_wind=False):\n",
    "    print(\"Training fitnesses:\", training_fitnesses)\n",
    "    print(\"Test fitnesses:\", test_fitnesses)\n",
    "    generations = list(range(len(training_fitnesses[0])))\n",
    "\n",
    "    plt.figure(figsize=(12, 5))\n",
    "\n",
    "    # Training fitness plot\n",
    "    plt.subplot(1, 2, 1)\n",
    "    for i, reward_type in enumerate(reward_types):\n",
    "        plt.plot(generations, training_fitnesses[i], label=reward_type)\n",
    "    title_train = f\"{plot_type} Training Fitness over Generations {'with Wind' if has_wind else 'without Wind'}\"\n",
    "    plt.title(title_train)\n",
    "    plt.xlabel(\"Generation\")\n",
    "    plt.ylabel(\"Fitness\")\n",
    "    plt.grid(True)\n",
    "    plt.legend()\n",
    "\n",
    "    if plot_type == \"Best\":\n",
    "        # Testing fitness plot\n",
    "        plt.subplot(1, 2, 2)\n",
    "        for i, reward_type in enumerate(reward_types):\n",
    "            plt.plot(generations, test_fitnesses[i], label=reward_type)\n",
    "        title_test = f\"{plot_type} Testing Fitness over Generations {'with Wind' if has_wind else 'without Wind'}\"\n",
    "        plt.title(title_test)\n",
    "        plt.xlabel(\"Generation\")\n",
    "        plt.ylabel(\"Fitness\")\n",
    "        plt.grid(True)\n",
    "        plt.legend()\n",
    "\n",
    "    plt.tight_layout()\n",
    "    plt.show()\n",
    "\n",
    "csv_path = \"improvement_results/fitness_comp_improvement_with_wind.csv\"  # or without wind\n",
    "training_avg, test_avg, reward_types = load_and_average_per_generation(csv_path, plot_type=\"Best\")\n",
    "plot_fitnesses_reward_types_exp(training_avg, test_avg, reward_types, plot_type=\"Best\", has_wind=True)"
   ]
  },
  {
   "metadata": {},
   "cell_type": "code",
   "outputs": [],
   "execution_count": null,
   "source": [
    "# TEST TYPE 2. Testing the Multiobjective Fitness Function\n",
    "\n",
    "import csv\n",
    "import os\n",
    "\n",
    "def write_results_to_csv_multiobjective(internal_nodes, leaf_nodes,\n",
    "                                            has_wind, reward_type, is_multiobjective,\n",
    "                                            pop_size, max_gens,\n",
    "                                            best_training, best_test, average_fitness, time_elapsed, num_evals):\n",
    "\n",
    "    # Flatten node types to strings for logging\n",
    "    internal_str = \",\".join(type(node).__name__ for node in internal_nodes)\n",
    "    leaf_str = \",\".join(type(node).__name__ for node in leaf_nodes)\n",
    "\n",
    "    # Build a dictionary of all results/settings\n",
    "    row = {\n",
    "        \"internal_nodes\": internal_str,\n",
    "        \"leaf_nodes\": leaf_str,\n",
    "        \"has_wind\": has_wind,\n",
    "        \"reward_type\": reward_type,\n",
    "        \"is_multiobjective\": is_multiobjective,\n",
    "        \"pop_size\": pop_size,\n",
    "        \"max_gens\": max_gens,\n",
    "        \"best_training\": best_training,\n",
    "        \"best_test\": best_test,\n",
    "        \"average_fitness\": average_fitness,\n",
    "        \"time_elapsed\": time_elapsed,\n",
    "        \"num_evals\": num_evals\n",
    "    }\n",
    "\n",
    "    name = \"multiobjective_improvement.csv\"\n",
    "    if has_wind:\n",
    "        name = \"multiobjective_improvement.csv\"\n",
    "\n",
    "    os.makedirs(\"improvement_results\", exist_ok=True)\n",
    "    filename = os.path.join(\"improvement_results\", name)\n",
    "    \n",
    "    file_exists = os.path.isfile(filename)\n",
    "    with open(filename, mode=\"a\", newline=\"\") as csvfile:\n",
    "        writer = csv.DictWriter(csvfile, fieldnames=list(row.keys()))\n",
    "        if not file_exists:\n",
    "            writer.writeheader()\n",
    "        writer.writerow(row)\n",
    "\n",
    "\n",
    "def multiobjective_exp(max_gens=30, has_wind=False, is_multiobjective=True):\n",
    "    reward_type = 'avg'\n",
    "    fitness_function_version = make_fitness_function_pt(reduction=reward_type, has_wind=has_wind)\n",
    "    print(f\"\\nRunning experiment multi-objective case: {is_multiobjective}\")\n",
    "    best_training, best_test, average_fitness, average_fitness_test, \\\n",
    "        time_elapsed, num_evals = main_experimentation_loop(fitness_function_version,\n",
    "                                                            internal_nodes, \n",
    "                                                            leaf_nodes,\n",
    "                                                            pop_size=16,\n",
    "                                                            max_gens=max_gens, \n",
    "                                                            max_tree_size=31,\n",
    "                                                            is_multiobjective=is_multiobjective)\n",
    "    print(f\"Best training fitness: {best_training}, Best test fitness: {best_test}, Average fitness: {average_fitness}, Average test fitness: {average_fitness_test}, Time elapsed: {time_elapsed}, Number of evaluations: {num_evals}\")\n",
    "    write_results_to_csv_multiobjective(\n",
    "        internal_nodes=internal_nodes,\n",
    "        leaf_nodes=leaf_nodes,\n",
    "        has_wind=has_wind,\n",
    "        reward_type=reward_type,\n",
    "        is_multiobjective=is_multiobjective,\n",
    "        pop_size=16,\n",
    "        max_gens=max_gens,\n",
    "        best_training=best_training,\n",
    "        best_test=best_test,\n",
    "        average_fitness=average_fitness,\n",
    "        time_elapsed=time_elapsed,\n",
    "        num_evals=num_evals\n",
    "    )\n",
    "\n",
    "multiobjective_exp(max_gens=10, has_wind=False, is_multiobjective=True)"
   ]
  },
  {
   "metadata": {},
   "cell_type": "markdown",
   "source": [
    "## Make an animation\n",
    "Here the best evolved individual is selected and one episode is rendered. Make sure to save your lunar landers over time to track progress and make comparisons."
   ]
  },
  {
   "metadata": {},
   "cell_type": "code",
   "outputs": [],
   "execution_count": null,
   "source": [
    "frames = []\n",
    "\n",
    "# gist to save gif from https://gist.github.com/botforge/64cbb71780e6208172bbf03cd9293553\n",
    "def save_frames_as_gif(frames, path='./', filename='evolved_lander.gif'):\n",
    "  plt.figure(figsize=(frames[0].shape[1] / 72.0, frames[0].shape[0] / 72.0), dpi=72)\n",
    "  patch = plt.imshow(frames[0])\n",
    "  plt.axis('off')\n",
    "  def animate(i):\n",
    "      patch.set_data(frames[i])\n",
    "  anim = animation.FuncAnimation(plt.gcf(), animate, frames = len(frames), interval=50)\n",
    "  anim.save(path + filename, writer='imagemagick', fps=60)\n",
    "\n",
    "frames = []\n",
    "fitness_function_pt(best, num_episodes=1, episode_duration=500, render=True, ignore_done=False)\n",
    "env.close()\n",
    "save_frames_as_gif(frames)"
   ]
  },
  {
   "metadata": {},
   "cell_type": "markdown",
   "source": "## Play animation"
  },
  {
   "metadata": {},
   "cell_type": "markdown",
   "source": "<img src=\"evolved_lander.gif\" width=\"750\">"
  },
  {
   "metadata": {},
   "cell_type": "markdown",
   "source": [
    "## Optimisation\n",
    "The coefficients in the multi-tree aren't optimised. Here Q-learning (taken from https://pytorch.org/tutorials/intermediate/reinforcement_q_learning.html) is used to optimise the weights further. Incorporate coefficient optimisation in training your agent(s). Coefficient Optimisation can be expensive. Think about how often you want to optimise, when, which individuals etc."
   ]
  },
  {
   "metadata": {},
   "cell_type": "code",
   "outputs": [],
   "execution_count": null,
   "source": [
    "batch_size = 128\n",
    "GAMMA = 0.99\n",
    "\n",
    "constants = best.get_subtrees_consts()\n",
    "\n",
    "if len(constants)>0:\n",
    "  optimizer = optim.AdamW(constants, lr=1e-3, amsgrad=True)\n",
    "\n",
    "for _ in range(500):\n",
    "\n",
    "  if len(constants)>0 and len(evo.memory)>batch_size:\n",
    "    target_tree = copy.deepcopy(best)\n",
    "\n",
    "    transitions = evo.memory.sample(batch_size)\n",
    "    batch = Transition(*zip(*transitions))\n",
    "    \n",
    "    non_final_mask = torch.tensor(tuple(map(lambda s: s is not None,\n",
    "                                        batch.next_state)), dtype=torch.bool)\n",
    "\n",
    "    non_final_next_states = torch.cat([s for s in batch.next_state\n",
    "                                               if s is not None])\n",
    "    state_batch = torch.cat(batch.state)\n",
    "    action_batch = torch.cat(batch.action)\n",
    "    reward_batch = torch.cat(batch.reward)\n",
    "\n",
    "    state_action_values = best.get_output_pt(state_batch).gather(1, action_batch)\n",
    "    next_state_values = torch.zeros(batch_size, dtype=torch.float)\n",
    "    with torch.no_grad():\n",
    "      next_state_values[non_final_mask] = target_tree.get_output_pt(non_final_next_states).max(1)[0].float()\n",
    "\n",
    "    expected_state_action_values = (next_state_values * GAMMA) + reward_batch\n",
    "    \n",
    "    criterion = nn.SmoothL1Loss()\n",
    "    loss = criterion(state_action_values, expected_state_action_values.unsqueeze(1))\n",
    "   \n",
    "    # Optimize the model\n",
    "    optimizer.zero_grad()\n",
    "    loss.backward()\n",
    "    torch.nn.utils.clip_grad_value_(constants, 100)\n",
    "    optimizer.step()\n",
    "\n",
    "print(best.get_readable_repr())\n",
    "print(get_test_score(best))"
   ]
  },
  {
   "metadata": {},
   "cell_type": "code",
   "outputs": [],
   "execution_count": null,
   "source": [
    "frames = []\n",
    "fitness_function_pt(best, num_episodes=1, episode_duration=500, render=True, ignore_done=False)\n",
    "env.close()\n",
    "save_frames_as_gif(frames, filename='evolved_lander_RL.gif')"
   ]
  },
  {
   "metadata": {},
   "cell_type": "markdown",
   "source": "<img src=\"evolved_lander_RL.gif\" width=\"750\">"
  },
  {
   "metadata": {},
   "cell_type": "code",
   "outputs": [],
   "execution_count": null,
   "source": [
    "import pandas as pd\n",
    "import matplotlib.pyplot as plt\n",
    "import numpy as np\n",
    "\n",
    "df = pd.read_csv('hyperparameter_tuning_results/resultscombined')\n",
    "\n",
    "\n",
    "parameters = ['crossover_rate', 'mutation_rate', 'coeff_opt_rate', 'tournament_size']\n",
    "\n",
    "# little wonky conversion to take the last float because the array looks like \"[np.float64(-134359.23), np.float64(-213.35), ...\n",
    "df['average_fitness'] = df['average_fitness'].apply(lambda x: float(x.split(\", \")[-1].split(\"(\")[-1][:-3]))\n",
    "\n",
    "fig, axes = plt.subplots(2, 2, figsize=(12, 10))\n",
    "axes = axes.flatten()\n",
    "\n",
    "for i, param in enumerate(parameters):\n",
    "    ax = axes[i]\n",
    "    df.boxplot(column='average_fitness', by=param, ax=ax)\n",
    "    # ax.scatter(df[param], df['average_fitness'], alpha=0.5)\n",
    "    ax.set_xlabel(param)\n",
    "    ax.set_ylabel('average_fitness')\n",
    "    ax.set_title(f'{param} vs average_fitness')\n",
    "\n",
    "plt.tight_layout()\n",
    "plt.show()"
   ]
  },
  {
   "metadata": {},
   "cell_type": "code",
   "outputs": [],
   "execution_count": null,
   "source": [
    "import pandas as pd\n",
    "import plotly.express as px\n",
    "\n",
    "# Load and clean data\n",
    "df = pd.read_csv('hyperparameter_tuning_results/resultscombined')\n",
    "df['best_training'] = df['best_training'].apply(lambda x: float(x.split(\", \")[-1].split(\"(\")[-1][:-3]))\n",
    "df = df[df['tournament_size'] == 8]\n",
    "# Create 3D scatter plot\n",
    "fig = px.scatter_3d(\n",
    "    df,\n",
    "    x='crossover_rate',\n",
    "    y='mutation_rate',\n",
    "    z='coeff_opt_rate',\n",
    "    color='best_training',\n",
    "    color_continuous_scale='Viridis',\n",
    "    opacity=0.8,\n",
    "    title='3D Scatter Plot of Hyperparameters vs Average Fitness',\n",
    "    labels={\n",
    "        'crossover_rate': 'Crossover Rate',\n",
    "        'mutation_rate': 'Mutation Rate',\n",
    "        'coeff_opt_rate': 'Coeff Opt Rate',\n",
    "        'best_training': 'Best Fitness',\n",
    "    }\n",
    ")\n",
    "\n",
    "# Set renderer (if needed)\n",
    "import plotly.io as pio\n",
    "pio.renderers.default = 'browser'  # Try 'iframe_connected' or 'browser' if this doesn't show\n",
    "\n",
    "fig.show()"
   ]
  },
  {
   "metadata": {},
   "cell_type": "code",
   "outputs": [],
   "execution_count": null,
   "source": [
    "import pandas as pd\n",
    "import plotly.express as px\n",
    "\n",
    "# Heatmap with One Facet: Coeff Opt Rate \n",
    "\n",
    "# Load and preprocess data\n",
    "df = pd.read_csv('hyperparameter_tuning_results/resultscombined')\n",
    "df['best_training'] = df['best_training'].apply(lambda x: float(x.split(\", \")[-1].split(\"(\")[-1][:-3]))\n",
    "df = df[df['tournament_size'] == 8]\n",
    "\n",
    "# Round to avoid floating point noise in axes\n",
    "df['crossover_rate'] = df['crossover_rate'].round(3)\n",
    "df['mutation_rate'] = df['mutation_rate'].round(3)\n",
    "df['coeff_opt_rate'] = df['coeff_opt_rate'].round(3)\n",
    "\n",
    "# Create faceted heatmaps\n",
    "fig = px.density_heatmap(\n",
    "    df,\n",
    "    x='crossover_rate',\n",
    "    y='mutation_rate',\n",
    "    z='best_training',\n",
    "    facet_col='coeff_opt_rate',\n",
    "    color_continuous_scale='Viridis',\n",
    "    histfunc='avg',\n",
    "    title='Hyperparameter Heatmaps: Fitness vs Crossover & Mutation (Faceted by Coeff Opt Rate)',\n",
    "    labels={\n",
    "        'crossover_rate': 'Crossover Rate',\n",
    "        'mutation_rate': 'Mutation Rate',\n",
    "        'best_training': 'Best Fitness',\n",
    "        'coeff_opt_rate': 'Coeff Opt Rate'\n",
    "    }\n",
    ")\n",
    "\n",
    "fig.update_layout(margin=dict(l=20, r=20, t=50, b=20))\n",
    "fig.show()"
   ]
  },
  {
   "metadata": {},
   "cell_type": "code",
   "outputs": [],
   "execution_count": null,
   "source": [
    "import pandas as pd\n",
    "import plotly.express as px\n",
    "\n",
    "# Heatmap with Two Facets: Coeff Opt Rate and Tournament Size\n",
    "# This heatmap uses best_fitness metric for selection\n",
    "# and averages this metric across generations\n",
    "\n",
    "# Load and preprocess data\n",
    "df = pd.read_csv('hyperparameter_tuning_results/resultscombined')\n",
    "\n",
    "# Extract float value from 'best_training' column\n",
    "df['best_training'] = df['best_training'].apply(lambda x: float(x.split(\", \")[-1].split(\"(\")[-1][:-3]))\n",
    "\n",
    "# Round to avoid floating point noise in axes\n",
    "df['crossover_rate'] = df['crossover_rate'].round(3)\n",
    "df['mutation_rate'] = df['mutation_rate'].round(3)\n",
    "df['coeff_opt_rate'] = df['coeff_opt_rate'].round(3)\n",
    "df['tournament_size'] = df['tournament_size']\n",
    "\n",
    "# Remove configuration where crossover_rate == 1.0\n",
    "df = df[df['crossover_rate'] != 1.0]\n",
    "\n",
    "# Create faceted heatmaps with mutation_rate as row facet and crossover_rate as column facet\n",
    "fig = px.density_heatmap(\n",
    "    df,\n",
    "    x='tournament_size',\n",
    "    y='coeff_opt_rate',\n",
    "    z='best_training',\n",
    "    facet_row='mutation_rate',\n",
    "    facet_col='crossover_rate',\n",
    "    histfunc='avg',\n",
    "    color_continuous_scale='Viridis',\n",
    "    title='Fitness Heatmaps: Tournament Size vs Coeff Opt Rate (Faceted by Mutation & Crossover Rate)',\n",
    "    labels={\n",
    "        'tournament_size': 'Tournament Size',\n",
    "        'coeff_opt_rate': 'Coeff Opt Rate',\n",
    "        'best_training': 'Best Fitness',\n",
    "        'mutation_rate': 'Mutation Rate',\n",
    "        'crossover_rate': 'Crossover Rate'\n",
    "    }\n",
    ")\n",
    "\n",
    "# Improve layout\n",
    "fig.update_layout(\n",
    "    margin=dict(l=20, r=20, t=60, b=20),\n",
    "    height=800,\n",
    "    width=1000\n",
    ")\n",
    "\n",
    "# Reduce font size of facet labels to prevent overlap\n",
    "for annotation in fig.layout.annotations:\n",
    "    annotation.font.size = 10\n",
    "\n",
    "fig.show()\n"
   ]
  },
  {
   "metadata": {},
   "cell_type": "code",
   "outputs": [],
   "execution_count": null,
   "source": [
    "import pandas as pd\n",
    "import plotly.express as px\n",
    "\n",
    "# Heatmap with Two Facets: Coeff Opt Rate and Tournament Size\n",
    "# This heatmap uses avg_fitness metric for selection\n",
    "\n",
    "# Load and preprocess data\n",
    "df = pd.read_csv('hyperparameter_tuning_results/resultscombined')\n",
    "\n",
    "# Extract float value from 'average_fitness' column\n",
    "df['average_fitness'] = df['average_fitness'].apply(lambda x: float(x.split(\", \")[-1].split(\"(\")[-1][:-3]))\n",
    "\n",
    "# Round to avoid floating point noise in axes\n",
    "df['crossover_rate'] = df['crossover_rate'].round(3)\n",
    "df['mutation_rate'] = df['mutation_rate'].round(3)\n",
    "df['coeff_opt_rate'] = df['coeff_opt_rate'].round(3)\n",
    "df['tournament_size'] = df['tournament_size']\n",
    "\n",
    "# Create faceted heatmaps with tournament_size as row facet and coeff_opt_rate as column facet\n",
    "fig = px.density_heatmap(\n",
    "    df,\n",
    "    x='crossover_rate',\n",
    "    y='mutation_rate',\n",
    "    z='average_fitness',\n",
    "    facet_row='tournament_size',     # ← Add tournament_size as row facet\n",
    "    facet_col='coeff_opt_rate',      # ← Coeff mutation rate as column facet\n",
    "    histfunc='avg',\n",
    "    color_continuous_scale='Viridis',\n",
    "    title='Fitness Heatmaps: Crossover vs Mutation (Faceted by Coeff Opt Rate and Tournament Size)',\n",
    "    labels={\n",
    "        'crossover_rate': 'Crossover Rate',\n",
    "        'mutation_rate': 'Mutation Rate',\n",
    "        'average_fitness': 'Average Fitness',\n",
    "        'coeff_opt_rate': 'Coeff Opt Rate',\n",
    "        'tournament_size': 'Tournament Size'\n",
    "    }\n",
    ")\n",
    "\n",
    "# Improve layout\n",
    "fig.update_layout(\n",
    "    margin=dict(l=20, r=20, t=60, b=20),\n",
    "    height=800, width=1000\n",
    ")\n",
    "\n",
    "for annotation in fig.layout.annotations:\n",
    "    annotation.font.size = 10\n",
    "\n",
    "fig.show()\n"
   ]
  },
  {
   "metadata": {
    "ExecuteTime": {
     "end_time": "2025-06-08T10:13:04.618960500Z",
     "start_time": "2025-06-08T07:44:44.498925Z"
    }
   },
   "cell_type": "code",
   "source": [
    "import pandas as pd\n",
    "import plotly.graph_objects as go\n",
    "\n",
    "# Load and clean data\n",
    "df = pd.read_csv('hyperparameter_tuning_results/resultscombined')\n",
    "df['best_training'] = df['best_training'].apply(lambda x: float(x.split(\", \")[-1].split(\"(\")[-1][:-3]))\n",
    "\n",
    "# Filter by tournament_size and a fixed coeff_opt_rate value (adjust if needed)\n",
    "df = df[df['tournament_size'] == 8]\n",
    "df['coeff_opt_rate'] = df['coeff_opt_rate'].round(3)\n",
    "target_coeff = df['coeff_opt_rate'].unique()[0]  # Use first value or set manually\n",
    "df = df[df['coeff_opt_rate'] == target_coeff]\n",
    "\n",
    "# Round to reduce float precision issues\n",
    "df['crossover_rate'] = df['crossover_rate'].round(3)\n",
    "df['mutation_rate'] = df['mutation_rate'].round(3)\n",
    "\n",
    "# Pivot data to create Z-matrix\n",
    "pivot_df = df.pivot_table(\n",
    "    values='best_training',\n",
    "    index='mutation_rate',\n",
    "    columns='crossover_rate',\n",
    "    aggfunc='mean'  # or 'min' depending on your definition of \"best\"\n",
    ")\n",
    "\n",
    "# Extract axes\n",
    "x = pivot_df.columns.values  # crossover_rate\n",
    "y = pivot_df.index.values    # mutation_rate\n",
    "z = pivot_df.values          # best_training\n",
    "\n",
    "# Create 3D surface plot\n",
    "fig = go.Figure(data=[go.Surface(z=z, x=x, y=y, colorscale='Viridis')])\n",
    "fig.update_layout(\n",
    "    title='Average Fitness vs Hyperparameters',\n",
    "    scene=dict(\n",
    "        xaxis_title='Crossover Rate',\n",
    "        yaxis_title='Mutation Rate',\n",
    "        zaxis_title='Average Fitness'\n",
    "    )\n",
    ")\n",
    "fig.show()\n"
   ],
   "outputs": [
    {
     "data": {
      "application/vnd.plotly.v1+json": {
       "data": [
        {
         "colorscale": [
          [
           0.0,
           "#440154"
          ],
          [
           0.1111111111111111,
           "#482878"
          ],
          [
           0.2222222222222222,
           "#3e4989"
          ],
          [
           0.3333333333333333,
           "#31688e"
          ],
          [
           0.4444444444444444,
           "#26828e"
          ],
          [
           0.5555555555555556,
           "#1f9e89"
          ],
          [
           0.6666666666666666,
           "#35b779"
          ],
          [
           0.7777777777777778,
           "#6ece58"
          ],
          [
           0.8888888888888888,
           "#b5de2b"
          ],
          [
           1.0,
           "#fde725"
          ]
         ],
         "x": {
          "dtype": "f8",
          "bdata": "AAAAAAAA4D8AAAAAAADkPwAAAAAAAOg/AAAAAAAA7D8="
         },
         "y": {
          "dtype": "f8",
          "bdata": "exSuR+F6hD+amZmZmZmZP5qZmZmZmak/MzMzMzMzsz8AAAAAAADAPw=="
         },
         "z": {
          "dtype": "f8",
          "bdata": "TyRX6A1lesCm3qmxgSdwwFGlry6yEGjAAAAAAAAA+H9uAR2qNF5swKEHeEbCMWDA63jAut91ZMAAAAAAAAD4fyX62/4TQW3ADGfDIw/xPUDc2zTipl5xwFtn4LT6TV3ANIK2+HLzg0CmCsGb1QtdQG6kD4ze+EjA25CqwyKDcsCjr3ZCHNV4QIGYWXujWWBAAAAAAAAA+H8Ld+r51+9lwA==",
          "shape": "5, 4"
         },
         "type": "surface"
        }
       ],
       "layout": {
        "template": {
         "data": {
          "histogram2dcontour": [
           {
            "type": "histogram2dcontour",
            "colorbar": {
             "outlinewidth": 0,
             "ticks": ""
            },
            "colorscale": [
             [
              0.0,
              "#0d0887"
             ],
             [
              0.1111111111111111,
              "#46039f"
             ],
             [
              0.2222222222222222,
              "#7201a8"
             ],
             [
              0.3333333333333333,
              "#9c179e"
             ],
             [
              0.4444444444444444,
              "#bd3786"
             ],
             [
              0.5555555555555556,
              "#d8576b"
             ],
             [
              0.6666666666666666,
              "#ed7953"
             ],
             [
              0.7777777777777778,
              "#fb9f3a"
             ],
             [
              0.8888888888888888,
              "#fdca26"
             ],
             [
              1.0,
              "#f0f921"
             ]
            ]
           }
          ],
          "choropleth": [
           {
            "type": "choropleth",
            "colorbar": {
             "outlinewidth": 0,
             "ticks": ""
            }
           }
          ],
          "histogram2d": [
           {
            "type": "histogram2d",
            "colorbar": {
             "outlinewidth": 0,
             "ticks": ""
            },
            "colorscale": [
             [
              0.0,
              "#0d0887"
             ],
             [
              0.1111111111111111,
              "#46039f"
             ],
             [
              0.2222222222222222,
              "#7201a8"
             ],
             [
              0.3333333333333333,
              "#9c179e"
             ],
             [
              0.4444444444444444,
              "#bd3786"
             ],
             [
              0.5555555555555556,
              "#d8576b"
             ],
             [
              0.6666666666666666,
              "#ed7953"
             ],
             [
              0.7777777777777778,
              "#fb9f3a"
             ],
             [
              0.8888888888888888,
              "#fdca26"
             ],
             [
              1.0,
              "#f0f921"
             ]
            ]
           }
          ],
          "heatmap": [
           {
            "type": "heatmap",
            "colorbar": {
             "outlinewidth": 0,
             "ticks": ""
            },
            "colorscale": [
             [
              0.0,
              "#0d0887"
             ],
             [
              0.1111111111111111,
              "#46039f"
             ],
             [
              0.2222222222222222,
              "#7201a8"
             ],
             [
              0.3333333333333333,
              "#9c179e"
             ],
             [
              0.4444444444444444,
              "#bd3786"
             ],
             [
              0.5555555555555556,
              "#d8576b"
             ],
             [
              0.6666666666666666,
              "#ed7953"
             ],
             [
              0.7777777777777778,
              "#fb9f3a"
             ],
             [
              0.8888888888888888,
              "#fdca26"
             ],
             [
              1.0,
              "#f0f921"
             ]
            ]
           }
          ],
          "contourcarpet": [
           {
            "type": "contourcarpet",
            "colorbar": {
             "outlinewidth": 0,
             "ticks": ""
            }
           }
          ],
          "contour": [
           {
            "type": "contour",
            "colorbar": {
             "outlinewidth": 0,
             "ticks": ""
            },
            "colorscale": [
             [
              0.0,
              "#0d0887"
             ],
             [
              0.1111111111111111,
              "#46039f"
             ],
             [
              0.2222222222222222,
              "#7201a8"
             ],
             [
              0.3333333333333333,
              "#9c179e"
             ],
             [
              0.4444444444444444,
              "#bd3786"
             ],
             [
              0.5555555555555556,
              "#d8576b"
             ],
             [
              0.6666666666666666,
              "#ed7953"
             ],
             [
              0.7777777777777778,
              "#fb9f3a"
             ],
             [
              0.8888888888888888,
              "#fdca26"
             ],
             [
              1.0,
              "#f0f921"
             ]
            ]
           }
          ],
          "surface": [
           {
            "type": "surface",
            "colorbar": {
             "outlinewidth": 0,
             "ticks": ""
            },
            "colorscale": [
             [
              0.0,
              "#0d0887"
             ],
             [
              0.1111111111111111,
              "#46039f"
             ],
             [
              0.2222222222222222,
              "#7201a8"
             ],
             [
              0.3333333333333333,
              "#9c179e"
             ],
             [
              0.4444444444444444,
              "#bd3786"
             ],
             [
              0.5555555555555556,
              "#d8576b"
             ],
             [
              0.6666666666666666,
              "#ed7953"
             ],
             [
              0.7777777777777778,
              "#fb9f3a"
             ],
             [
              0.8888888888888888,
              "#fdca26"
             ],
             [
              1.0,
              "#f0f921"
             ]
            ]
           }
          ],
          "mesh3d": [
           {
            "type": "mesh3d",
            "colorbar": {
             "outlinewidth": 0,
             "ticks": ""
            }
           }
          ],
          "scatter": [
           {
            "marker": {
             "line": {
              "color": "#283442"
             }
            },
            "type": "scatter"
           }
          ],
          "parcoords": [
           {
            "type": "parcoords",
            "line": {
             "colorbar": {
              "outlinewidth": 0,
              "ticks": ""
             }
            }
           }
          ],
          "scatterpolargl": [
           {
            "type": "scatterpolargl",
            "marker": {
             "colorbar": {
              "outlinewidth": 0,
              "ticks": ""
             }
            }
           }
          ],
          "bar": [
           {
            "error_x": {
             "color": "#f2f5fa"
            },
            "error_y": {
             "color": "#f2f5fa"
            },
            "marker": {
             "line": {
              "color": "rgb(17,17,17)",
              "width": 0.5
             },
             "pattern": {
              "fillmode": "overlay",
              "size": 10,
              "solidity": 0.2
             }
            },
            "type": "bar"
           }
          ],
          "scattergeo": [
           {
            "type": "scattergeo",
            "marker": {
             "colorbar": {
              "outlinewidth": 0,
              "ticks": ""
             }
            }
           }
          ],
          "scatterpolar": [
           {
            "type": "scatterpolar",
            "marker": {
             "colorbar": {
              "outlinewidth": 0,
              "ticks": ""
             }
            }
           }
          ],
          "histogram": [
           {
            "marker": {
             "pattern": {
              "fillmode": "overlay",
              "size": 10,
              "solidity": 0.2
             }
            },
            "type": "histogram"
           }
          ],
          "scattergl": [
           {
            "marker": {
             "line": {
              "color": "#283442"
             }
            },
            "type": "scattergl"
           }
          ],
          "scatter3d": [
           {
            "type": "scatter3d",
            "line": {
             "colorbar": {
              "outlinewidth": 0,
              "ticks": ""
             }
            },
            "marker": {
             "colorbar": {
              "outlinewidth": 0,
              "ticks": ""
             }
            }
           }
          ],
          "scattermap": [
           {
            "type": "scattermap",
            "marker": {
             "colorbar": {
              "outlinewidth": 0,
              "ticks": ""
             }
            }
           }
          ],
          "scattermapbox": [
           {
            "type": "scattermapbox",
            "marker": {
             "colorbar": {
              "outlinewidth": 0,
              "ticks": ""
             }
            }
           }
          ],
          "scatterternary": [
           {
            "type": "scatterternary",
            "marker": {
             "colorbar": {
              "outlinewidth": 0,
              "ticks": ""
             }
            }
           }
          ],
          "scattercarpet": [
           {
            "type": "scattercarpet",
            "marker": {
             "colorbar": {
              "outlinewidth": 0,
              "ticks": ""
             }
            }
           }
          ],
          "carpet": [
           {
            "aaxis": {
             "endlinecolor": "#A2B1C6",
             "gridcolor": "#506784",
             "linecolor": "#506784",
             "minorgridcolor": "#506784",
             "startlinecolor": "#A2B1C6"
            },
            "baxis": {
             "endlinecolor": "#A2B1C6",
             "gridcolor": "#506784",
             "linecolor": "#506784",
             "minorgridcolor": "#506784",
             "startlinecolor": "#A2B1C6"
            },
            "type": "carpet"
           }
          ],
          "table": [
           {
            "cells": {
             "fill": {
              "color": "#506784"
             },
             "line": {
              "color": "rgb(17,17,17)"
             }
            },
            "header": {
             "fill": {
              "color": "#2a3f5f"
             },
             "line": {
              "color": "rgb(17,17,17)"
             }
            },
            "type": "table"
           }
          ],
          "barpolar": [
           {
            "marker": {
             "line": {
              "color": "rgb(17,17,17)",
              "width": 0.5
             },
             "pattern": {
              "fillmode": "overlay",
              "size": 10,
              "solidity": 0.2
             }
            },
            "type": "barpolar"
           }
          ],
          "pie": [
           {
            "automargin": true,
            "type": "pie"
           }
          ]
         },
         "layout": {
          "autotypenumbers": "strict",
          "colorway": [
           "#636efa",
           "#EF553B",
           "#00cc96",
           "#ab63fa",
           "#FFA15A",
           "#19d3f3",
           "#FF6692",
           "#B6E880",
           "#FF97FF",
           "#FECB52"
          ],
          "font": {
           "color": "#f2f5fa"
          },
          "hovermode": "closest",
          "hoverlabel": {
           "align": "left"
          },
          "paper_bgcolor": "rgb(17,17,17)",
          "plot_bgcolor": "rgb(17,17,17)",
          "polar": {
           "bgcolor": "rgb(17,17,17)",
           "angularaxis": {
            "gridcolor": "#506784",
            "linecolor": "#506784",
            "ticks": ""
           },
           "radialaxis": {
            "gridcolor": "#506784",
            "linecolor": "#506784",
            "ticks": ""
           }
          },
          "ternary": {
           "bgcolor": "rgb(17,17,17)",
           "aaxis": {
            "gridcolor": "#506784",
            "linecolor": "#506784",
            "ticks": ""
           },
           "baxis": {
            "gridcolor": "#506784",
            "linecolor": "#506784",
            "ticks": ""
           },
           "caxis": {
            "gridcolor": "#506784",
            "linecolor": "#506784",
            "ticks": ""
           }
          },
          "coloraxis": {
           "colorbar": {
            "outlinewidth": 0,
            "ticks": ""
           }
          },
          "colorscale": {
           "sequential": [
            [
             0.0,
             "#0d0887"
            ],
            [
             0.1111111111111111,
             "#46039f"
            ],
            [
             0.2222222222222222,
             "#7201a8"
            ],
            [
             0.3333333333333333,
             "#9c179e"
            ],
            [
             0.4444444444444444,
             "#bd3786"
            ],
            [
             0.5555555555555556,
             "#d8576b"
            ],
            [
             0.6666666666666666,
             "#ed7953"
            ],
            [
             0.7777777777777778,
             "#fb9f3a"
            ],
            [
             0.8888888888888888,
             "#fdca26"
            ],
            [
             1.0,
             "#f0f921"
            ]
           ],
           "sequentialminus": [
            [
             0.0,
             "#0d0887"
            ],
            [
             0.1111111111111111,
             "#46039f"
            ],
            [
             0.2222222222222222,
             "#7201a8"
            ],
            [
             0.3333333333333333,
             "#9c179e"
            ],
            [
             0.4444444444444444,
             "#bd3786"
            ],
            [
             0.5555555555555556,
             "#d8576b"
            ],
            [
             0.6666666666666666,
             "#ed7953"
            ],
            [
             0.7777777777777778,
             "#fb9f3a"
            ],
            [
             0.8888888888888888,
             "#fdca26"
            ],
            [
             1.0,
             "#f0f921"
            ]
           ],
           "diverging": [
            [
             0,
             "#8e0152"
            ],
            [
             0.1,
             "#c51b7d"
            ],
            [
             0.2,
             "#de77ae"
            ],
            [
             0.3,
             "#f1b6da"
            ],
            [
             0.4,
             "#fde0ef"
            ],
            [
             0.5,
             "#f7f7f7"
            ],
            [
             0.6,
             "#e6f5d0"
            ],
            [
             0.7,
             "#b8e186"
            ],
            [
             0.8,
             "#7fbc41"
            ],
            [
             0.9,
             "#4d9221"
            ],
            [
             1,
             "#276419"
            ]
           ]
          },
          "xaxis": {
           "gridcolor": "#283442",
           "linecolor": "#506784",
           "ticks": "",
           "title": {
            "standoff": 15
           },
           "zerolinecolor": "#283442",
           "automargin": true,
           "zerolinewidth": 2
          },
          "yaxis": {
           "gridcolor": "#283442",
           "linecolor": "#506784",
           "ticks": "",
           "title": {
            "standoff": 15
           },
           "zerolinecolor": "#283442",
           "automargin": true,
           "zerolinewidth": 2
          },
          "scene": {
           "xaxis": {
            "backgroundcolor": "rgb(17,17,17)",
            "gridcolor": "#506784",
            "linecolor": "#506784",
            "showbackground": true,
            "ticks": "",
            "zerolinecolor": "#C8D4E3",
            "gridwidth": 2
           },
           "yaxis": {
            "backgroundcolor": "rgb(17,17,17)",
            "gridcolor": "#506784",
            "linecolor": "#506784",
            "showbackground": true,
            "ticks": "",
            "zerolinecolor": "#C8D4E3",
            "gridwidth": 2
           },
           "zaxis": {
            "backgroundcolor": "rgb(17,17,17)",
            "gridcolor": "#506784",
            "linecolor": "#506784",
            "showbackground": true,
            "ticks": "",
            "zerolinecolor": "#C8D4E3",
            "gridwidth": 2
           }
          },
          "shapedefaults": {
           "line": {
            "color": "#f2f5fa"
           }
          },
          "annotationdefaults": {
           "arrowcolor": "#f2f5fa",
           "arrowhead": 0,
           "arrowwidth": 1
          },
          "geo": {
           "bgcolor": "rgb(17,17,17)",
           "landcolor": "rgb(17,17,17)",
           "subunitcolor": "#506784",
           "showland": true,
           "showlakes": true,
           "lakecolor": "rgb(17,17,17)"
          },
          "title": {
           "x": 0.05
          },
          "updatemenudefaults": {
           "bgcolor": "#506784",
           "borderwidth": 0
          },
          "sliderdefaults": {
           "bgcolor": "#C8D4E3",
           "borderwidth": 1,
           "bordercolor": "rgb(17,17,17)",
           "tickwidth": 0
          },
          "mapbox": {
           "style": "dark"
          }
         }
        },
        "title": {
         "text": "Average Fitness vs Hyperparameters"
        },
        "scene": {
         "xaxis": {
          "title": {
           "text": "Crossover Rate"
          }
         },
         "yaxis": {
          "title": {
           "text": "Mutation Rate"
          }
         },
         "zaxis": {
          "title": {
           "text": "Average Fitness"
          }
         }
        }
       },
       "config": {
        "plotlyServerURL": "https://plot.ly"
       }
      }
     },
     "metadata": {},
     "output_type": "display_data"
    }
   ],
   "execution_count": 14
  },
  {
   "metadata": {
    "ExecuteTime": {
     "end_time": "2025-06-08T14:56:54.638909Z",
     "start_time": "2025-06-08T14:56:54.439013Z"
    }
   },
   "cell_type": "code",
   "source": [
    "import ast\n",
    "# Load data\n",
    "df = pd.read_csv('improvement_results/experiment_results_k_wind.csv')  # Replace with your actual path\n",
    "\n",
    "# Parse average_fitness: convert string to list of floats\n",
    "\n",
    "\n",
    "def parse_fitness(s):\n",
    "    try:\n",
    "        # Try parsing as a literal list (handles plain float lists)\n",
    "        fitness = ast.literal_eval(s)\n",
    "        if isinstance(fitness, list) and all(isinstance(v, (float, int)) for v in fitness):\n",
    "            return fitness\n",
    "    except (ValueError, SyntaxError):\n",
    "        pass\n",
    "\n",
    "    # Fallback for np.float64-style formatting\n",
    "    try:\n",
    "        parts = s.strip('[]').split('np.float64(')\n",
    "        floats = [float(p.strip('), ')) for p in parts if p]\n",
    "        return floats\n",
    "    except Exception:\n",
    "        return []\n",
    "\n",
    "df['fitness_list'] = df['best_training'].apply(parse_fitness)\n",
    "\n",
    "# Filter out malformed rows\n",
    "df = df[df['fitness_list'].apply(lambda x: len(x) == 51)]\n",
    "\n",
    "# Create a dictionary: key = k, value = list of 50-length fitness arrays\n",
    "k_values = sorted(df['k'].unique())\n",
    "# Plot\n",
    "plt.figure(figsize=(10, 6))\n",
    "\n",
    "for k in k_values:\n",
    "    subset = df[df['k'] == k]\n",
    "    print(f'k={k}: {len(subset)} rows')\n",
    "\n",
    "    fitness_arrays = np.array(subset['fitness_list'].tolist())\n",
    "    if fitness_arrays.size == 0:\n",
    "        continue  # skip empty\n",
    "\n",
    "    mean_fitness = fitness_arrays.mean(axis=0)\n",
    "    plt.plot(range(0, 51), mean_fitness, label='k=' + str(k))\n",
    "\n",
    "plt.xlabel('Generation')\n",
    "plt.ylabel('Average Fitness')\n",
    "plt.title('Average Fitness Over Generations for Each k')\n",
    "plt.legend()\n",
    "plt.grid(True)\n",
    "plt.tight_layout()\n",
    "plt.show()"
   ],
   "outputs": [
    {
     "name": "stdout",
     "output_type": "stream",
     "text": [
      "k=0.01-wind: 3 rows\n",
      "k=0.15-wind: 3 rows\n",
      "k=baseline-wind: 3 rows\n"
     ]
    },
    {
     "data": {
      "text/plain": [
       "<Figure size 1000x600 with 1 Axes>"
      ],
      "image/png": "[encoded data removed]"
     },
     "metadata": {},
     "output_type": "display_data"
    }
   ],
   "execution_count": 50
  },
  {
   "metadata": {
    "ExecuteTime": {
     "end_time": "2025-06-08T12:40:54.373706Z",
     "start_time": "2025-06-08T12:40:54.145618Z"
    }
   },
   "cell_type": "code",
   "source": [
    "import numpy as np\n",
    "import matplotlib.pyplot as plt\n",
    "\n",
    "ks = [0.01, 0.05, 0.1, 0.15, 0.2]\n",
    "time_steps = np.arange(50)\n",
    "target_average = 0.25\n",
    "target_sum = target_average * len(time_steps)\n",
    "\n",
    "plt.figure(figsize=(10, 6))\n",
    "\n",
    "for k in ks:\n",
    "    values = [np.exp(-k * i) for i in time_steps]\n",
    "    normalization_factor = target_sum / sum(values)\n",
    "    scalars = [normalization_factor * v for v in values]\n",
    "    plt.plot(time_steps, scalars, label=f'k={k}')\n",
    "\n",
    "plt.axhline(y=0.25, color='gray', linestyle='--', label='Baseline')\n",
    "plt.title('Mutation Scaling Exponential Decay (Average = 0.25)')\n",
    "plt.xlabel('Generation')\n",
    "plt.ylabel('Mutation Scaling')\n",
    "plt.legend()\n",
    "plt.grid(True)\n",
    "plt.tight_layout()\n",
    "plt.show()\n"
   ],
   "outputs": [
    {
     "data": {
      "text/plain": [
       "<Figure size 1000x600 with 1 Axes>"
      ],
      "image/png": "[encoded data removed]"
     },
     "metadata": {},
     "output_type": "display_data"
    }
   ],
   "execution_count": 45
  }
 ],
 "metadata": {
  "kernelspec": {
   "display_name": "venv",
   "language": "python",
   "name": "python3"
  },
  "language_info": {
   "codemirror_mode": {
    "name": "ipython",
    "version": 3
   },
   "file_extension": ".py",
   "mimetype": "text/x-python",
   "name": "python",
   "nbconvert_exporter": "python",
   "pygments_lexer": "ipython3",
   "version": "3.11.4"
  }
 },
 "nbformat": 4,
 "nbformat_minor": 4
}
